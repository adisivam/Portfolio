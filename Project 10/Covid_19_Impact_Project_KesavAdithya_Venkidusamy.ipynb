{
 "cells": [
  {
   "cell_type": "markdown",
   "id": "d825b7f4",
   "metadata": {},
   "source": [
    "## DSC530 Final Project\n",
    "\n",
    "### Kesav Adithya Venkidusamy\n",
    "\n",
    "### Covid-19 Impact Analysis"
   ]
  },
  {
   "cell_type": "markdown",
   "id": "d6e65d3e",
   "metadata": {},
   "source": [
    "This project is to analyze which age group is mostly impacted by Covid-19. There is a saying that \"Only older adults and people with preexisting conditions are at risk of infections and complications\". This project is to analyze the datasets available in CDC to prove/disprove the assumption. \n",
    "\n",
    "CDC website mentioned below contains enormous datasets for Covid-19. Among numerous datasets available in CDC, we are going to consider \"Covid-19 impact by Age and Sex\", and \"total number of Covid-19 cases by month, county\" datasets to prove/disprove the above sayings.\n",
    "\n",
    "https://data.cdc.gov/browse"
   ]
  },
  {
   "cell_type": "markdown",
   "id": "e7226ec8",
   "metadata": {},
   "source": [
    "#### Importing Libraries and setting up sys path"
   ]
  },
  {
   "cell_type": "code",
   "execution_count": 1,
   "id": "80ee272e",
   "metadata": {},
   "outputs": [],
   "source": [
    "import pandas as pd\n",
    "import sys\n",
    "import warnings\n",
    "import numpy as np\n",
    "import datetime\n",
    "\n",
    "warnings.filterwarnings('ignore')"
   ]
  },
  {
   "cell_type": "code",
   "execution_count": 2,
   "id": "ab81c8b9",
   "metadata": {},
   "outputs": [],
   "source": [
    "import sys\n",
    "sys.path.append('C:/Users/KesavAdithya/PycharmProjects/ThinkStats2/code')\n",
    "\n",
    "import thinkstats2\n",
    "import thinkplot"
   ]
  },
  {
   "cell_type": "markdown",
   "id": "d1cebdb9",
   "metadata": {},
   "source": [
    "#### Function to create data frame"
   ]
  },
  {
   "cell_type": "code",
   "execution_count": 3,
   "id": "005d696f",
   "metadata": {},
   "outputs": [],
   "source": [
    "def dataFrameCreate(filePath,fileName):\n",
    "    \"\"\"\n",
    "    This function is to create the dataframe for the filePatha and CSV file passed as argument\n",
    "    \n",
    "    filePath: Local path where file resides\n",
    "    fileName: Name of the file\n",
    "    \n",
    "    returns: data frame for the input file\n",
    "    \"\"\"\n",
    "    if filePath[-1] == '/':\n",
    "        dataFile = filePath+fileName\n",
    "    else:\n",
    "        dataFile = filePath + '/' + fileName\n",
    "    print(dataFile)\n",
    "    df = pd.read_csv(dataFile)\n",
    "    return df\n"
   ]
  },
  {
   "cell_type": "markdown",
   "id": "8e3afe8f",
   "metadata": {},
   "source": [
    "#### Functions to create data sets; Below are the data sets extracted from CDC website\n",
    "\n",
    "1. Provisional COVID-19 Deaths by Sex and Age\n",
    "2. Provisional COVID-19 Deaths by Week, Sex, and Age\n",
    "3. Conditions contributing to COVID-19 deaths, by state and age, provisional 2020-2021\n"
   ]
  },
  {
   "cell_type": "code",
   "execution_count": 4,
   "id": "ca374e03",
   "metadata": {},
   "outputs": [],
   "source": [
    "def dataset_1_Creation():\n",
    "    \"\"\"\n",
    "    This function to create the dataframe with all required row and column filters for the 1st data set\n",
    "    \n",
    "    returns: data frame for the input file\n",
    "    \"\"\"    \n",
    "    covid19_death_age_sex_raw_df = dataFrameCreate('datasets','Provisional_COVID-19_Deaths_by_Sex_and_Age.csv')\n",
    "    \n",
    "    print(\"\\nDataframe for covid-19 death by age and sex is created\")\n",
    "    covid19_death_age_sex_df = CleanCovid19DeathAgeSex(covid19_death_age_sex_raw_df)\n",
    "    print(\"\\nColumns present in the dataset and datatypes\")\n",
    "    print(covid19_death_age_sex_df.dtypes)\n",
    "    print(\"\\nSample data for covid-19 death by age and sex dataframe\")\n",
    "    print(covid19_death_age_sex_df.head(4))\n",
    "    return covid19_death_age_sex_df\n",
    "            "
   ]
  },
  {
   "cell_type": "code",
   "execution_count": 5,
   "id": "05fc09c7",
   "metadata": {},
   "outputs": [],
   "source": [
    "def dataset_2_Creation():\n",
    "    \"\"\"\n",
    "    This function to create the dataframe with all required row and column filters for the 2nd data set\n",
    "    \n",
    "    returns: data frame for the 2nd input file\n",
    "    \"\"\"\n",
    "    \n",
    "    covid19_death_age_disease_raw_df = dataFrameCreate('datasets','COVID-19_Deaths_by_State_and_Age.csv')\n",
    "    \n",
    "    print(\"\\nDataframe for covid-19 death by age and other disease is created\")\n",
    "    covid19_death_age_disease_df = CleanCovid19DeathAgeDisease(covid19_death_age_disease_raw_df)\n",
    "    print(\"\\nColumns present in the dataset and datatypes\")\n",
    "    print(covid19_death_age_disease_df.dtypes)\n",
    "    print(\"\\nSample data for covid-19 death by age and disease dataframe\")\n",
    "    print(covid19_death_age_disease_df.head(4))\n",
    "    \n",
    "    return covid19_death_age_disease_df\n"
   ]
  },
  {
   "cell_type": "code",
   "execution_count": 6,
   "id": "1e1441e0",
   "metadata": {},
   "outputs": [],
   "source": [
    "def dataset_3_Creation():\n",
    "    \n",
    "    \"\"\"\n",
    "    This function to create the dataframe with all required row and column filters for the 3rd data set\n",
    "    \n",
    "    returns: data frame for the 3rd input file\n",
    "    \"\"\"\n",
    "    \n",
    "    covid19_death_age_sex_week_raw_df = dataFrameCreate('datasets','Provisional_COVID-19_Deaths_by_Week_Sex_and_Age.csv')\n",
    "    \n",
    "    print(\"\\nDataframe for covid-19 death by age and other disease for week is created\")\n",
    "    covid19_death_age_sex_week_df = CleanCovid19DeathAgeSexWeek(covid19_death_age_sex_week_raw_df)\n",
    "    print(\"\\nColumns present in the dataset and datatypes\")\n",
    "    print(covid19_death_age_sex_week_df.dtypes)\n",
    "    print(\"\\nSample data for covid-19 death by age and disease dataframe\")\n",
    "    print(covid19_death_age_sex_week_df.head(4))\n",
    "    \n",
    "    return covid19_death_age_sex_week_df"
   ]
  },
  {
   "cell_type": "markdown",
   "id": "ca5039c0",
   "metadata": {},
   "source": [
    "#### Functions to perform data wrangling and cleaning for the given data sets\n",
    "\n",
    "Data cleaning is performed on all the data sets to filter the unwanted records. In addition, the datatypes for some of the columns are changed based on their types  "
   ]
  },
  {
   "cell_type": "code",
   "execution_count": 7,
   "id": "db619155",
   "metadata": {},
   "outputs": [],
   "source": [
    "def CleanCovid19DeathAgeSex(df):\n",
    "    \"\"\"\n",
    "    This function is to clean the 1st input data by applying all the filter condition\n",
    "    \n",
    "    return: Final dataframe after data wrangling \n",
    "    \n",
    "    \"\"\"\n",
    "    df = df[[\"Start Date\",\"End Date\",\"Group\",\"State\",\"Sex\",\"Age Group\",\"COVID-19 Deaths\",\"Total Deaths\"]]\n",
    "    df = df.fillna(0)\n",
    "    df['year'] = pd.DatetimeIndex(df['End Date']).year\n",
    "    df['month'] = pd.DatetimeIndex(df['End Date']).month\n",
    "    rename_df = df.rename(columns={'Start Date':'start_date','End Date':'end_date','Group':'group','State':'state','Sex':'sex','Age Group':'age_group','COVID-19 Deaths':'covid_deaths','Total Deaths':'total_deaths'})\n",
    "    age_grp_filter = ['All Ages']\n",
    "    final_df = rename_df[(rename_df.group == 'By Month') & (rename_df.state == 'United States') & (~rename_df.age_group.isin(age_grp_filter)) & (rename_df.sex == 'All Sexes')]\n",
    "    final_df['start_date'] = pd.to_datetime(final_df['start_date'])\n",
    "    final_df['end_date'] = pd.to_datetime(final_df['end_date'])\n",
    "    final_df['covid_deaths'] = final_df['covid_deaths'].str.replace(',','').astype('float')\n",
    "    final_df['total_deaths'] = final_df['total_deaths'].str.replace(',','').astype('float')\n",
    "    final_df = final_df[(final_df.end_date < \"2021-07-01\")]\n",
    "    print(final_df.count())\n",
    "    return final_df\n"
   ]
  },
  {
   "cell_type": "code",
   "execution_count": 8,
   "id": "05139ab2",
   "metadata": {},
   "outputs": [],
   "source": [
    "def CleanCovid19DeathAgeDisease(df):\n",
    "    \"\"\"\n",
    "    This function is to clean the 2nd input data by applying all the filter condition\n",
    "    \n",
    "    return: Final dataframe after data wrangling \n",
    "    \"\"\"\n",
    "    df = df[['Start Date','End Date','Group','State','Condition Group','Condition','Age Group','COVID-19 Deaths']]\n",
    "    df = df.fillna(0)\n",
    "    df['year'] = pd.DatetimeIndex(df['End Date']).year\n",
    "    df['month'] = pd.DatetimeIndex(df['End Date']).month\n",
    "    rename_df = df.rename(columns={'Start Date':'start_date','End Date':'end_date','Group':'group','State':'state','Condition Group':'condition_group','Condition':'condition','Age Group':'age_group','COVID-19 Deaths':'covid_deaths'})\n",
    "    age_grp_filter = ['Not states','All Ages']\n",
    "    final_df = rename_df[(rename_df.group == 'By Month') & (rename_df.state == 'United States') & (~rename_df.age_group.isin(age_grp_filter))]\n",
    "    final_df['start_date'] = pd.to_datetime(final_df['start_date'])\n",
    "    final_df['end_date'] = pd.to_datetime(final_df['end_date'])\n",
    "    final_df['covid_deaths'] = final_df['covid_deaths'].str.replace(',','').astype('float')\n",
    "    final_df = final_df[(final_df.start_date > \"2020-03-01\") & (final_df.end_date < \"2021-07-01\")]\n",
    "    print(final_df.count())\n",
    "    return final_df\n"
   ]
  },
  {
   "cell_type": "code",
   "execution_count": 9,
   "id": "211be085",
   "metadata": {},
   "outputs": [],
   "source": [
    "def CleanCovid19DeathAgeSexWeek(df):\n",
    "    \"\"\"\n",
    "    This function is to clean the 3rd input data by applying all the filter condition\n",
    "    \n",
    "    return: Final dataframe after data wrangling \n",
    "    \"\"\"\n",
    "    df = df[[\"State\",\"MMWR Week\",\"End Week\",\"Sex\",\"Age Group\",\"Total Deaths\",\"COVID-19 Deaths\"]]\n",
    "    df = df.fillna(0)\n",
    "    df['year'] = pd.DatetimeIndex(df['End Week']).year\n",
    "    df['month'] = pd.DatetimeIndex(df['End Week']).month\n",
    "    rename_df = df.rename(columns={'State':'state','MMWR Week':'mmwr_week','End Week':'end_week','Sex':'sex','Age Group':'age_group','Total Deaths':'total_deaths','COVID-19 Deaths':'covid_deaths'})\n",
    "    age_grp_filter = ['All Ages']\n",
    "    final_df = rename_df[(~rename_df.age_group.isin(age_grp_filter)) & (rename_df.sex == 'All Sex')]\n",
    "    final_df['end_week'] = pd.to_datetime(final_df['end_week'])\n",
    "    final_df['covid_deaths'] = final_df['covid_deaths'].str.replace(',','').astype('float')\n",
    "    final_df['total_deaths'] = final_df['total_deaths'].str.replace(',','').astype('float')\n",
    "    final_df = final_df[(final_df.end_week > \"2020-04-01\") & (final_df.end_week < \"2021-07-01\")]\n",
    "    print(final_df.count())\n",
    "    return final_df"
   ]
  },
  {
   "cell_type": "markdown",
   "id": "db920723",
   "metadata": {},
   "source": [
    "#### Source dataframe creation\n",
    "\n",
    "Creating dataframe for dataset for Covid-19 deaths by age and sex. This dataset contains the conditions/cause for the deaths  "
   ]
  },
  {
   "cell_type": "code",
   "execution_count": 10,
   "id": "7cfb76ad",
   "metadata": {},
   "outputs": [
    {
     "name": "stdout",
     "output_type": "stream",
     "text": [
      "datasets/Provisional_COVID-19_Deaths_by_Sex_and_Age.csv\n",
      "\n",
      "Dataframe for covid-19 death by age and sex is created\n",
      "start_date      288\n",
      "end_date        288\n",
      "group           288\n",
      "state           288\n",
      "sex             288\n",
      "age_group       288\n",
      "covid_deaths    288\n",
      "total_deaths    288\n",
      "year            288\n",
      "month           288\n",
      "dtype: int64\n",
      "\n",
      "Columns present in the dataset and datatypes\n",
      "start_date      datetime64[ns]\n",
      "end_date        datetime64[ns]\n",
      "group                   object\n",
      "state                   object\n",
      "sex                     object\n",
      "age_group               object\n",
      "covid_deaths           float64\n",
      "total_deaths           float64\n",
      "year                     int64\n",
      "month                    int64\n",
      "dtype: object\n",
      "\n",
      "Sample data for covid-19 death by age and sex dataframe\n",
      "     start_date   end_date     group          state        sex     age_group  \\\n",
      "8263 2020-01-01 2020-01-31  By Month  United States  All Sexes  Under 1 year   \n",
      "8264 2020-01-01 2020-01-31  By Month  United States  All Sexes    0-17 years   \n",
      "8265 2020-01-01 2020-01-31  By Month  United States  All Sexes     1-4 years   \n",
      "8266 2020-01-01 2020-01-31  By Month  United States  All Sexes    5-14 years   \n",
      "\n",
      "      covid_deaths  total_deaths  year  month  \n",
      "8263           0.0        1784.0  2020      1  \n",
      "8264           0.0        2966.0  2020      1  \n",
      "8265           0.0         315.0  2020      1  \n",
      "8266           0.0         471.0  2020      1  \n"
     ]
    }
   ],
   "source": [
    "cdeath_agesex_df = dataset_1_Creation()\n",
    "cdeath_agesex_df = cdeath_agesex_df.reset_index(drop=True)"
   ]
  },
  {
   "cell_type": "markdown",
   "id": "024058bc",
   "metadata": {},
   "source": [
    "Creating dataframe for the dataset which contains Covid-19 deaths by age and underlying conditions. This data set is extracted from CDC website. From the extracted CDC data, I have considered the data from 2020-04 to 2021-06 for the analysis. Below are the variables present in the data set.\n",
    "\n",
    "1. Start Date - First week-ending date of data period\n",
    "2. End Date - Last week-ending date of data period\n",
    "3. Group - Time-period Indicator for record: by Month, by Year, Total\n",
    "4. State - Jurisdiction of occurrence \n",
    "5. Condition - Condition contributing to deaths involving COVID-19\n",
    "6. Age Group - Age group\n",
    "7. COVID-19 Deaths - COVID 19 Deaths"
   ]
  },
  {
   "cell_type": "code",
   "execution_count": 11,
   "id": "29afdfc4",
   "metadata": {},
   "outputs": [
    {
     "name": "stdout",
     "output_type": "stream",
     "text": [
      "datasets/COVID-19_Deaths_by_State_and_Age.csv\n",
      "\n",
      "Dataframe for covid-19 death by age and other disease is created\n",
      "start_date         3105\n",
      "end_date           3105\n",
      "group              3105\n",
      "state              3105\n",
      "condition_group    3105\n",
      "condition          3105\n",
      "age_group          3105\n",
      "covid_deaths       3105\n",
      "year               3105\n",
      "month              3105\n",
      "dtype: int64\n",
      "\n",
      "Columns present in the dataset and datatypes\n",
      "start_date         datetime64[ns]\n",
      "end_date           datetime64[ns]\n",
      "group                      object\n",
      "state                      object\n",
      "condition_group            object\n",
      "condition                  object\n",
      "age_group                  object\n",
      "covid_deaths              float64\n",
      "year                        int64\n",
      "month                       int64\n",
      "dtype: object\n",
      "\n",
      "Sample data for covid-19 death by age and disease dataframe\n",
      "      start_date   end_date     group          state       condition_group  \\\n",
      "37263 2020-04-01 2020-04-30  By Month  United States  Respiratory diseases   \n",
      "37264 2020-05-01 2020-05-31  By Month  United States  Respiratory diseases   \n",
      "37265 2020-06-01 2020-06-30  By Month  United States  Respiratory diseases   \n",
      "37266 2020-07-01 2020-07-31  By Month  United States  Respiratory diseases   \n",
      "\n",
      "                     condition age_group  covid_deaths  year  month  \n",
      "37263  Influenza and pneumonia      0-24          27.0  2020      4  \n",
      "37264  Influenza and pneumonia      0-24          19.0  2020      5  \n",
      "37265  Influenza and pneumonia      0-24          17.0  2020      6  \n",
      "37266  Influenza and pneumonia      0-24          38.0  2020      7  \n"
     ]
    }
   ],
   "source": [
    "cdeath_agedisease_df = dataset_2_Creation()\n",
    "cdeath_agedisease_df = cdeath_agedisease_df.reset_index(drop=True)"
   ]
  },
  {
   "cell_type": "markdown",
   "id": "7bfd5c18",
   "metadata": {},
   "source": [
    "Creating dataframe for the dataset containing Covid-19 deaths weekly count by Age and sex. This data set is also extracted from CDC. From the extracted CDC data, I have considered the data from 2020-04 to 2021-06 for the analysis. Below are the variables present in the data set.\n",
    "\n",
    "1. Data as of – Date of Analysis\n",
    "2. State - Jurisdiction of occurrence\n",
    "3. MMWR Week – MMWR week number\n",
    "4. End Week - Last week-ending date of data period\n",
    "5. Sex - Sex\n",
    "6. Age Group - Age group\n",
    "7. Total Deaths – Deaths from all causes of deaths\n",
    "8. COVID-19 Deaths - Deaths Involving COVID-19\n"
   ]
  },
  {
   "cell_type": "code",
   "execution_count": 12,
   "id": "8c000b7c",
   "metadata": {},
   "outputs": [
    {
     "name": "stdout",
     "output_type": "stream",
     "text": [
      "datasets/Provisional_COVID-19_Deaths_by_Week_Sex_and_Age.csv\n",
      "\n",
      "Dataframe for covid-19 death by age and other disease for week is created\n",
      "state           715\n",
      "mmwr_week       715\n",
      "end_week        715\n",
      "sex             715\n",
      "age_group       715\n",
      "total_deaths    715\n",
      "covid_deaths    715\n",
      "year            715\n",
      "month           715\n",
      "dtype: int64\n",
      "\n",
      "Columns present in the dataset and datatypes\n",
      "state                   object\n",
      "mmwr_week                int64\n",
      "end_week        datetime64[ns]\n",
      "sex                     object\n",
      "age_group               object\n",
      "total_deaths           float64\n",
      "covid_deaths           float64\n",
      "year                     int64\n",
      "month                    int64\n",
      "dtype: object\n",
      "\n",
      "Sample data for covid-19 death by age and disease dataframe\n",
      "             state  mmwr_week   end_week      sex     age_group  total_deaths  \\\n",
      "469  United States         14 2020-04-04  All Sex  Under 1 year         343.0   \n",
      "470  United States         14 2020-04-04  All Sex     1-4 Years          58.0   \n",
      "471  United States         14 2020-04-04  All Sex    5-14 Years          98.0   \n",
      "472  United States         14 2020-04-04  All Sex   15-24 Years         619.0   \n",
      "\n",
      "     covid_deaths  year  month  \n",
      "469           1.0  2020      4  \n",
      "470           0.0  2020      4  \n",
      "471           0.0  2020      4  \n",
      "472          14.0  2020      4  \n"
     ]
    }
   ],
   "source": [
    "cdeath_agesex_week_df = dataset_3_Creation()\n",
    "cdeath_agesex_week_df = cdeath_agesex_week_df.reset_index(drop=True)"
   ]
  },
  {
   "cell_type": "markdown",
   "id": "b9a93c9a",
   "metadata": {},
   "source": [
    "### Data set: weekly_covid_death_age_sex\n",
    "\n",
    "#### Data Transformation\n",
    "\n",
    "Among the above 3 datasets, only 2nd and 3rd are considered for this project's analysis"
   ]
  },
  {
   "cell_type": "markdown",
   "id": "32e3d24a",
   "metadata": {},
   "source": [
    "Adding a field called \"age_split\" to the 2nd dataset (covid death weekly count by age and sex) based on age. People's age less than 55 is considered as Young people and those having age greater than 55 are considered as old people."
   ]
  },
  {
   "cell_type": "code",
   "execution_count": 13,
   "id": "c51af9e9",
   "metadata": {},
   "outputs": [],
   "source": [
    "less_55_years = ['Under 1 year','1-4 Years','5-14 Years','15-24 Years','25-34 Years','35-44 Years','45-54 Years']\n",
    "cdeath_agesex_week_df['age_split'] = np.where(cdeath_agesex_week_df.age_group.isin(less_55_years),'Young','Old')"
   ]
  },
  {
   "cell_type": "markdown",
   "id": "344cda85",
   "metadata": {},
   "source": [
    "Displaying the data after adding additional field"
   ]
  },
  {
   "cell_type": "code",
   "execution_count": 14,
   "id": "7b0df254",
   "metadata": {},
   "outputs": [
    {
     "data": {
      "text/html": [
       "<div>\n",
       "<style scoped>\n",
       "    .dataframe tbody tr th:only-of-type {\n",
       "        vertical-align: middle;\n",
       "    }\n",
       "\n",
       "    .dataframe tbody tr th {\n",
       "        vertical-align: top;\n",
       "    }\n",
       "\n",
       "    .dataframe thead th {\n",
       "        text-align: right;\n",
       "    }\n",
       "</style>\n",
       "<table border=\"1\" class=\"dataframe\">\n",
       "  <thead>\n",
       "    <tr style=\"text-align: right;\">\n",
       "      <th></th>\n",
       "      <th>state</th>\n",
       "      <th>mmwr_week</th>\n",
       "      <th>end_week</th>\n",
       "      <th>sex</th>\n",
       "      <th>age_group</th>\n",
       "      <th>total_deaths</th>\n",
       "      <th>covid_deaths</th>\n",
       "      <th>year</th>\n",
       "      <th>month</th>\n",
       "      <th>age_split</th>\n",
       "    </tr>\n",
       "  </thead>\n",
       "  <tbody>\n",
       "    <tr>\n",
       "      <th>0</th>\n",
       "      <td>United States</td>\n",
       "      <td>14</td>\n",
       "      <td>2020-04-04</td>\n",
       "      <td>All Sex</td>\n",
       "      <td>Under 1 year</td>\n",
       "      <td>343.0</td>\n",
       "      <td>1.0</td>\n",
       "      <td>2020</td>\n",
       "      <td>4</td>\n",
       "      <td>Young</td>\n",
       "    </tr>\n",
       "    <tr>\n",
       "      <th>1</th>\n",
       "      <td>United States</td>\n",
       "      <td>14</td>\n",
       "      <td>2020-04-04</td>\n",
       "      <td>All Sex</td>\n",
       "      <td>1-4 Years</td>\n",
       "      <td>58.0</td>\n",
       "      <td>0.0</td>\n",
       "      <td>2020</td>\n",
       "      <td>4</td>\n",
       "      <td>Young</td>\n",
       "    </tr>\n",
       "    <tr>\n",
       "      <th>2</th>\n",
       "      <td>United States</td>\n",
       "      <td>14</td>\n",
       "      <td>2020-04-04</td>\n",
       "      <td>All Sex</td>\n",
       "      <td>5-14 Years</td>\n",
       "      <td>98.0</td>\n",
       "      <td>0.0</td>\n",
       "      <td>2020</td>\n",
       "      <td>4</td>\n",
       "      <td>Young</td>\n",
       "    </tr>\n",
       "    <tr>\n",
       "      <th>3</th>\n",
       "      <td>United States</td>\n",
       "      <td>14</td>\n",
       "      <td>2020-04-04</td>\n",
       "      <td>All Sex</td>\n",
       "      <td>15-24 Years</td>\n",
       "      <td>619.0</td>\n",
       "      <td>14.0</td>\n",
       "      <td>2020</td>\n",
       "      <td>4</td>\n",
       "      <td>Young</td>\n",
       "    </tr>\n",
       "  </tbody>\n",
       "</table>\n",
       "</div>"
      ],
      "text/plain": [
       "           state  mmwr_week   end_week      sex     age_group  total_deaths  \\\n",
       "0  United States         14 2020-04-04  All Sex  Under 1 year         343.0   \n",
       "1  United States         14 2020-04-04  All Sex     1-4 Years          58.0   \n",
       "2  United States         14 2020-04-04  All Sex    5-14 Years          98.0   \n",
       "3  United States         14 2020-04-04  All Sex   15-24 Years         619.0   \n",
       "\n",
       "   covid_deaths  year  month age_split  \n",
       "0           1.0  2020      4     Young  \n",
       "1           0.0  2020      4     Young  \n",
       "2           0.0  2020      4     Young  \n",
       "3          14.0  2020      4     Young  "
      ]
     },
     "execution_count": 14,
     "metadata": {},
     "output_type": "execute_result"
    }
   ],
   "source": [
    "cdeath_agesex_week_df.head(4)"
   ]
  },
  {
   "cell_type": "markdown",
   "id": "a0c88e95",
   "metadata": {},
   "source": [
    "Aggregate the count of deaths by age and week. Then, rounding off the count of deaths to nearest 100th place"
   ]
  },
  {
   "cell_type": "code",
   "execution_count": 15,
   "id": "2c0b2be4",
   "metadata": {},
   "outputs": [
    {
     "data": {
      "text/html": [
       "<div>\n",
       "<style scoped>\n",
       "    .dataframe tbody tr th:only-of-type {\n",
       "        vertical-align: middle;\n",
       "    }\n",
       "\n",
       "    .dataframe tbody tr th {\n",
       "        vertical-align: top;\n",
       "    }\n",
       "\n",
       "    .dataframe thead th {\n",
       "        text-align: right;\n",
       "    }\n",
       "</style>\n",
       "<table border=\"1\" class=\"dataframe\">\n",
       "  <thead>\n",
       "    <tr style=\"text-align: right;\">\n",
       "      <th></th>\n",
       "      <th>age_split</th>\n",
       "      <th>end_week</th>\n",
       "      <th>covid_deaths_sum</th>\n",
       "    </tr>\n",
       "  </thead>\n",
       "  <tbody>\n",
       "    <tr>\n",
       "      <th>0</th>\n",
       "      <td>Old</td>\n",
       "      <td>2020-04-04</td>\n",
       "      <td>9000</td>\n",
       "    </tr>\n",
       "    <tr>\n",
       "      <th>1</th>\n",
       "      <td>Old</td>\n",
       "      <td>2020-04-11</td>\n",
       "      <td>15000</td>\n",
       "    </tr>\n",
       "    <tr>\n",
       "      <th>2</th>\n",
       "      <td>Old</td>\n",
       "      <td>2020-04-18</td>\n",
       "      <td>15900</td>\n",
       "    </tr>\n",
       "    <tr>\n",
       "      <th>3</th>\n",
       "      <td>Old</td>\n",
       "      <td>2020-04-25</td>\n",
       "      <td>14500</td>\n",
       "    </tr>\n",
       "  </tbody>\n",
       "</table>\n",
       "</div>"
      ],
      "text/plain": [
       "  age_split   end_week  covid_deaths_sum\n",
       "0       Old 2020-04-04              9000\n",
       "1       Old 2020-04-11             15000\n",
       "2       Old 2020-04-18             15900\n",
       "3       Old 2020-04-25             14500"
      ]
     },
     "execution_count": 15,
     "metadata": {},
     "output_type": "execute_result"
    }
   ],
   "source": [
    "cdeath_agesex_week_grp_df = cdeath_agesex_week_df.groupby(['age_split','end_week']).agg({'covid_deaths':['sum']})\n",
    "cdeath_agesex_week_grp_df.columns = ['covid_deaths_sum']\n",
    "cdeath_agesex_week_grp_df = cdeath_agesex_week_grp_df.reset_index()\n",
    "cdeath_agesex_week_grp_df['covid_deaths_sum'] = (cdeath_agesex_week_grp_df['covid_deaths_sum']/100).astype(int)*100\n",
    "cdeath_agesex_week_grp_df.head(4)"
   ]
  },
  {
   "cell_type": "markdown",
   "id": "4b7017f1",
   "metadata": {},
   "source": [
    "Splitting the source dataframe into 2 dataframes; One having records with young people and another having records for old people \n",
    "\n",
    "Displaying the sample for both the dataframes"
   ]
  },
  {
   "cell_type": "code",
   "execution_count": 16,
   "id": "418d8dce",
   "metadata": {},
   "outputs": [],
   "source": [
    "cdeath_agesex_week_grp_young_df = cdeath_agesex_week_grp_df[(cdeath_agesex_week_grp_df.age_split == 'Young')]\n",
    "cdeath_agesex_week_grp_old_df = cdeath_agesex_week_grp_df[(cdeath_agesex_week_grp_df.age_split == 'Old')]"
   ]
  },
  {
   "cell_type": "code",
   "execution_count": 222,
   "id": "83a49077",
   "metadata": {},
   "outputs": [
    {
     "data": {
      "text/html": [
       "<div>\n",
       "<style scoped>\n",
       "    .dataframe tbody tr th:only-of-type {\n",
       "        vertical-align: middle;\n",
       "    }\n",
       "\n",
       "    .dataframe tbody tr th {\n",
       "        vertical-align: top;\n",
       "    }\n",
       "\n",
       "    .dataframe thead th {\n",
       "        text-align: right;\n",
       "    }\n",
       "</style>\n",
       "<table border=\"1\" class=\"dataframe\">\n",
       "  <thead>\n",
       "    <tr style=\"text-align: right;\">\n",
       "      <th></th>\n",
       "      <th>age_split</th>\n",
       "      <th>end_week</th>\n",
       "      <th>covid_deaths_sum</th>\n",
       "    </tr>\n",
       "  </thead>\n",
       "  <tbody>\n",
       "    <tr>\n",
       "      <th>65</th>\n",
       "      <td>Young</td>\n",
       "      <td>2020-04-04</td>\n",
       "      <td>1100</td>\n",
       "    </tr>\n",
       "    <tr>\n",
       "      <th>66</th>\n",
       "      <td>Young</td>\n",
       "      <td>2020-04-11</td>\n",
       "      <td>1300</td>\n",
       "    </tr>\n",
       "    <tr>\n",
       "      <th>67</th>\n",
       "      <td>Young</td>\n",
       "      <td>2020-04-18</td>\n",
       "      <td>1200</td>\n",
       "    </tr>\n",
       "    <tr>\n",
       "      <th>68</th>\n",
       "      <td>Young</td>\n",
       "      <td>2020-04-25</td>\n",
       "      <td>1000</td>\n",
       "    </tr>\n",
       "  </tbody>\n",
       "</table>\n",
       "</div>"
      ],
      "text/plain": [
       "   age_split   end_week  covid_deaths_sum\n",
       "65     Young 2020-04-04              1100\n",
       "66     Young 2020-04-11              1300\n",
       "67     Young 2020-04-18              1200\n",
       "68     Young 2020-04-25              1000"
      ]
     },
     "execution_count": 222,
     "metadata": {},
     "output_type": "execute_result"
    }
   ],
   "source": [
    "cdeath_agesex_week_grp_young_df.head(4)"
   ]
  },
  {
   "cell_type": "code",
   "execution_count": 221,
   "id": "9db82a05",
   "metadata": {},
   "outputs": [
    {
     "data": {
      "text/html": [
       "<div>\n",
       "<style scoped>\n",
       "    .dataframe tbody tr th:only-of-type {\n",
       "        vertical-align: middle;\n",
       "    }\n",
       "\n",
       "    .dataframe tbody tr th {\n",
       "        vertical-align: top;\n",
       "    }\n",
       "\n",
       "    .dataframe thead th {\n",
       "        text-align: right;\n",
       "    }\n",
       "</style>\n",
       "<table border=\"1\" class=\"dataframe\">\n",
       "  <thead>\n",
       "    <tr style=\"text-align: right;\">\n",
       "      <th></th>\n",
       "      <th>age_split</th>\n",
       "      <th>end_week</th>\n",
       "      <th>covid_deaths_sum</th>\n",
       "    </tr>\n",
       "  </thead>\n",
       "  <tbody>\n",
       "    <tr>\n",
       "      <th>0</th>\n",
       "      <td>Old</td>\n",
       "      <td>2020-04-04</td>\n",
       "      <td>9000</td>\n",
       "    </tr>\n",
       "    <tr>\n",
       "      <th>1</th>\n",
       "      <td>Old</td>\n",
       "      <td>2020-04-11</td>\n",
       "      <td>15000</td>\n",
       "    </tr>\n",
       "    <tr>\n",
       "      <th>2</th>\n",
       "      <td>Old</td>\n",
       "      <td>2020-04-18</td>\n",
       "      <td>15000</td>\n",
       "    </tr>\n",
       "    <tr>\n",
       "      <th>3</th>\n",
       "      <td>Old</td>\n",
       "      <td>2020-04-25</td>\n",
       "      <td>14000</td>\n",
       "    </tr>\n",
       "  </tbody>\n",
       "</table>\n",
       "</div>"
      ],
      "text/plain": [
       "  age_split   end_week  covid_deaths_sum\n",
       "0       Old 2020-04-04              9000\n",
       "1       Old 2020-04-11             15000\n",
       "2       Old 2020-04-18             15000\n",
       "3       Old 2020-04-25             14000"
      ]
     },
     "execution_count": 221,
     "metadata": {},
     "output_type": "execute_result"
    }
   ],
   "source": [
    "cdeath_agesex_week_grp_old_df.head(4)"
   ]
  },
  {
   "cell_type": "markdown",
   "id": "e4f6d76c",
   "metadata": {},
   "source": [
    "#### Histograms for 1st data set\n",
    "\n",
    "Converting the values of Covid death variable to nearest thousands and plotting histogram for the variable"
   ]
  },
  {
   "cell_type": "code",
   "execution_count": 19,
   "id": "0da49c53",
   "metadata": {},
   "outputs": [],
   "source": [
    "cdeath_agesex_week_grp_young_df['covid_deaths_sum'] = (cdeath_agesex_week_grp_young_df['covid_deaths_sum']/100).astype(int) * 100"
   ]
  },
  {
   "cell_type": "code",
   "execution_count": 20,
   "id": "8f7dbd31",
   "metadata": {},
   "outputs": [
    {
     "data": {
      "image/png": "[encoded data removed]",
      "text/plain": [
       "<Figure size 432x288 with 1 Axes>"
      ]
     },
     "metadata": {
      "needs_background": "light"
     },
     "output_type": "display_data"
    }
   ],
   "source": [
    "hist = thinkstats2.Hist(cdeath_agesex_week_grp_young_df.covid_deaths_sum, label='Covid_Deaths for age < 55')\n",
    "thinkplot.Hist(hist)\n",
    "thinkplot.Config(xlabel='# of Covid Deaths', ylabel='Count')\n",
    "#thinkplot.Show()"
   ]
  },
  {
   "cell_type": "code",
   "execution_count": 21,
   "id": "2ff0f7be",
   "metadata": {},
   "outputs": [],
   "source": [
    "cdeath_agesex_week_grp_old_df['covid_deaths_sum'] = (cdeath_agesex_week_grp_old_df['covid_deaths_sum']/1000).astype(int)*1000"
   ]
  },
  {
   "cell_type": "code",
   "execution_count": 22,
   "id": "20f8e24d",
   "metadata": {},
   "outputs": [
    {
     "data": {
      "image/png": "[encoded data removed]",
      "text/plain": [
       "<Figure size 432x288 with 1 Axes>"
      ]
     },
     "metadata": {
      "needs_background": "light"
     },
     "output_type": "display_data"
    }
   ],
   "source": [
    "hist = thinkstats2.Hist(cdeath_agesex_week_grp_old_df.covid_deaths_sum, label='Covid_Deaths for age > 55')\n",
    "thinkplot.Hist(hist)\n",
    "thinkplot.Config(xlabel='# of Covid Deaths', ylabel='Count')\n",
    "#thinkplot.Show()"
   ]
  },
  {
   "cell_type": "markdown",
   "id": "9b650381",
   "metadata": {},
   "source": [
    "Observation from histograms: Both the histograms created for number of covid deaths of the people having age less than 55 and greater than 55 are having positive skewess (Right skewed)"
   ]
  },
  {
   "cell_type": "code",
   "execution_count": 242,
   "id": "430e09e7",
   "metadata": {},
   "outputs": [],
   "source": [
    "cdeath_age_deaths_grp_df = cdeath_agesex_week_df.groupby(['age_group']).agg({'covid_deaths':['sum']})\n",
    "cdeath_age_deaths_grp_df.columns = ['covid_deaths_sum']\n",
    "cdeath_age_deaths_grp_df = cdeath_age_deaths_grp_df.reset_index()"
   ]
  },
  {
   "cell_type": "code",
   "execution_count": 243,
   "id": "bcbee81a",
   "metadata": {},
   "outputs": [
    {
     "data": {
      "text/html": [
       "<div>\n",
       "<style scoped>\n",
       "    .dataframe tbody tr th:only-of-type {\n",
       "        vertical-align: middle;\n",
       "    }\n",
       "\n",
       "    .dataframe tbody tr th {\n",
       "        vertical-align: top;\n",
       "    }\n",
       "\n",
       "    .dataframe thead th {\n",
       "        text-align: right;\n",
       "    }\n",
       "</style>\n",
       "<table border=\"1\" class=\"dataframe\">\n",
       "  <thead>\n",
       "    <tr style=\"text-align: right;\">\n",
       "      <th></th>\n",
       "      <th>age_group</th>\n",
       "      <th>covid_deaths_sum</th>\n",
       "    </tr>\n",
       "  </thead>\n",
       "  <tbody>\n",
       "    <tr>\n",
       "      <th>0</th>\n",
       "      <td>1-4</td>\n",
       "      <td>43.0</td>\n",
       "    </tr>\n",
       "    <tr>\n",
       "      <th>1</th>\n",
       "      <td>15-24</td>\n",
       "      <td>1008.0</td>\n",
       "    </tr>\n",
       "    <tr>\n",
       "      <th>2</th>\n",
       "      <td>25-34</td>\n",
       "      <td>4381.0</td>\n",
       "    </tr>\n",
       "    <tr>\n",
       "      <th>3</th>\n",
       "      <td>35-44</td>\n",
       "      <td>11075.0</td>\n",
       "    </tr>\n",
       "  </tbody>\n",
       "</table>\n",
       "</div>"
      ],
      "text/plain": [
       "  age_group  covid_deaths_sum\n",
       "0      1-4               43.0\n",
       "1    15-24             1008.0\n",
       "2    25-34             4381.0\n",
       "3    35-44            11075.0"
      ]
     },
     "execution_count": 243,
     "metadata": {},
     "output_type": "execute_result"
    }
   ],
   "source": [
    "cdeath_age_deaths_grp_df.head(4)"
   ]
  },
  {
   "cell_type": "code",
   "execution_count": 244,
   "id": "e8b739f2",
   "metadata": {},
   "outputs": [
    {
     "data": {
      "text/plain": [
       "<BarContainer object of 11 artists>"
      ]
     },
     "execution_count": 244,
     "metadata": {},
     "output_type": "execute_result"
    },
    {
     "data": {
      "image/png": "[encoded data removed]",
      "text/plain": [
       "<Figure size 864x360 with 1 Axes>"
      ]
     },
     "metadata": {
      "needs_background": "light"
     },
     "output_type": "display_data"
    }
   ],
   "source": [
    "f_covid_age = plt.figure()\n",
    "f_covid_age.set_figwidth(12)\n",
    "f_covid_age.set_figheight(5)\n",
    "xs_covid_age = cdeath_age_deaths_grp_df['age_group']\n",
    "ys_covid_age = cdeath_age_deaths_grp_df['covid_deaths_sum']\n",
    "\n",
    "plt.xlabel('Age Group')\n",
    "plt.ylabel('Covid Death Count')\n",
    "plt.bar(xs_covid_age, ys_covid_age, width=0.3)"
   ]
  },
  {
   "cell_type": "code",
   "execution_count": 246,
   "id": "97ef52e7",
   "metadata": {},
   "outputs": [],
   "source": [
    "cdeath_week_deaths_grp_df = cdeath_agesex_week_df.groupby(['end_week']).agg({'covid_deaths':['sum']})\n",
    "cdeath_week_deaths_grp_df.columns = ['covid_deaths_sum']\n",
    "cdeath_week_deaths_grp_df = cdeath_week_deaths_grp_df.reset_index()"
   ]
  },
  {
   "cell_type": "code",
   "execution_count": 247,
   "id": "b310c78c",
   "metadata": {},
   "outputs": [
    {
     "data": {
      "text/html": [
       "<div>\n",
       "<style scoped>\n",
       "    .dataframe tbody tr th:only-of-type {\n",
       "        vertical-align: middle;\n",
       "    }\n",
       "\n",
       "    .dataframe tbody tr th {\n",
       "        vertical-align: top;\n",
       "    }\n",
       "\n",
       "    .dataframe thead th {\n",
       "        text-align: right;\n",
       "    }\n",
       "</style>\n",
       "<table border=\"1\" class=\"dataframe\">\n",
       "  <thead>\n",
       "    <tr style=\"text-align: right;\">\n",
       "      <th></th>\n",
       "      <th>end_week</th>\n",
       "      <th>covid_deaths_sum</th>\n",
       "    </tr>\n",
       "  </thead>\n",
       "  <tbody>\n",
       "    <tr>\n",
       "      <th>0</th>\n",
       "      <td>2020-04-04</td>\n",
       "      <td>10126.0</td>\n",
       "    </tr>\n",
       "    <tr>\n",
       "      <th>1</th>\n",
       "      <td>2020-04-11</td>\n",
       "      <td>16317.0</td>\n",
       "    </tr>\n",
       "    <tr>\n",
       "      <th>2</th>\n",
       "      <td>2020-04-18</td>\n",
       "      <td>17199.0</td>\n",
       "    </tr>\n",
       "    <tr>\n",
       "      <th>3</th>\n",
       "      <td>2020-04-25</td>\n",
       "      <td>15550.0</td>\n",
       "    </tr>\n",
       "  </tbody>\n",
       "</table>\n",
       "</div>"
      ],
      "text/plain": [
       "    end_week  covid_deaths_sum\n",
       "0 2020-04-04           10126.0\n",
       "1 2020-04-11           16317.0\n",
       "2 2020-04-18           17199.0\n",
       "3 2020-04-25           15550.0"
      ]
     },
     "execution_count": 247,
     "metadata": {},
     "output_type": "execute_result"
    }
   ],
   "source": [
    "cdeath_week_deaths_grp_df.head(4)"
   ]
  },
  {
   "cell_type": "code",
   "execution_count": 254,
   "id": "e0607ce3",
   "metadata": {},
   "outputs": [
    {
     "data": {
      "text/plain": [
       "<BarContainer object of 65 artists>"
      ]
     },
     "execution_count": 254,
     "metadata": {},
     "output_type": "execute_result"
    },
    {
     "data": {
      "image/png": "[encoded data removed]",
      "text/plain": [
       "<Figure size 1440x360 with 1 Axes>"
      ]
     },
     "metadata": {
      "needs_background": "light"
     },
     "output_type": "display_data"
    }
   ],
   "source": [
    "f_covid_week = plt.figure()\n",
    "f_covid_week.set_figwidth(20)\n",
    "f_covid_week.set_figheight(5)\n",
    "xs_covid_week = cdeath_week_deaths_grp_df['end_week']\n",
    "ys_covid_week = cdeath_week_deaths_grp_df['covid_deaths_sum']\n",
    "\n",
    "plt.xlabel('Week Ending Date')\n",
    "plt.ylabel('Covid Death Count')\n",
    "plt.bar(xs_covid_week, ys_covid_week, width=1.5)"
   ]
  },
  {
   "cell_type": "markdown",
   "id": "10b0f521",
   "metadata": {},
   "source": [
    "#### Summary Statistics for 1st data set\n",
    "\n",
    "Mean, variance and standard deviation for number of covid deaths of all ages"
   ]
  },
  {
   "cell_type": "code",
   "execution_count": 23,
   "id": "b51b1f9c",
   "metadata": {},
   "outputs": [
    {
     "name": "stdout",
     "output_type": "stream",
     "text": [
      "The mean of covid deaths of all ages across weeks: 4556.15\n",
      "The variance of covid deaths of all ages across weeks: 35304186.64\n",
      "The standard deviation of covid deaths of all ages across weeks: 5941.73\n"
     ]
    }
   ],
   "source": [
    "cdeath_mean = cdeath_agesex_week_grp_df.covid_deaths_sum.mean()\n",
    "cdeath_var = cdeath_agesex_week_grp_df.covid_deaths_sum.var()\n",
    "cdeath_std = cdeath_agesex_week_grp_df.covid_deaths_sum.std()\n",
    "print(\"The mean of covid deaths of all ages across weeks: {:.2f}\".format(cdeath_mean))\n",
    "print(\"The variance of covid deaths of all ages across weeks: {:.2f}\".format(cdeath_var))\n",
    "print(\"The standard deviation of covid deaths of all ages across weeks: {:.2f}\".format(cdeath_std))"
   ]
  },
  {
   "cell_type": "markdown",
   "id": "62bcac62",
   "metadata": {},
   "source": [
    "Mean, variance and standard deviation for number of covid deaths for the younger people"
   ]
  },
  {
   "cell_type": "code",
   "execution_count": 24,
   "id": "a32d78d6",
   "metadata": {},
   "outputs": [
    {
     "name": "stdout",
     "output_type": "stream",
     "text": [
      "The mean of covid deaths of young age across weeks: 681.54\n",
      "The variance of covid deaths of young age across weeks: 155278.85\n",
      "The standard deviation of covid deaths of young age across weeks: 394.05\n"
     ]
    }
   ],
   "source": [
    "cdeath_y_mean = cdeath_agesex_week_grp_young_df.covid_deaths_sum.mean()\n",
    "cdeath_y_var = cdeath_agesex_week_grp_young_df.covid_deaths_sum.var()\n",
    "cdeath_y_std = cdeath_agesex_week_grp_young_df.covid_deaths_sum.std()\n",
    "print(\"The mean of covid deaths of young age across weeks: {:.2f}\".format(cdeath_y_mean))\n",
    "print(\"The variance of covid deaths of young age across weeks: {:.2f}\".format(cdeath_y_var))\n",
    "print(\"The standard deviation of covid deaths of young age across weeks: {:.2f}\".format(cdeath_y_std))"
   ]
  },
  {
   "cell_type": "markdown",
   "id": "ffd1201b",
   "metadata": {},
   "source": [
    "Mean, variance and standard deviation for number of covid deaths for the older people"
   ]
  },
  {
   "cell_type": "code",
   "execution_count": 25,
   "id": "539a3fdf",
   "metadata": {},
   "outputs": [
    {
     "name": "stdout",
     "output_type": "stream",
     "text": [
      "The mean of covid deaths of young age across weeks: 7907.69\n",
      "The variance of covid deaths of young age across weeks: 40366346.15\n",
      "The standard deviation of covid deaths of young age across weeks: 6353.45\n"
     ]
    }
   ],
   "source": [
    "cdeath_o_mean = cdeath_agesex_week_grp_old_df.covid_deaths_sum.mean()\n",
    "cdeath_o_var = cdeath_agesex_week_grp_old_df.covid_deaths_sum.var()\n",
    "cdeath_o_std = cdeath_agesex_week_grp_old_df.covid_deaths_sum.std()\n",
    "print(\"The mean of covid deaths of young age across weeks: {:.2f}\".format(cdeath_o_mean))\n",
    "print(\"The variance of covid deaths of young age across weeks: {:.2f}\".format(cdeath_o_var))\n",
    "print(\"The standard deviation of covid deaths of young age across weeks: {:.2f}\".format(cdeath_o_std))"
   ]
  },
  {
   "cell_type": "markdown",
   "id": "259bb79b",
   "metadata": {},
   "source": [
    "#### PMF for 1st data set"
   ]
  },
  {
   "cell_type": "code",
   "execution_count": 26,
   "id": "258b1049",
   "metadata": {},
   "outputs": [
    {
     "data": {
      "image/png": "[encoded data removed]",
      "text/plain": [
       "<Figure size 432x288 with 1 Axes>"
      ]
     },
     "metadata": {
      "needs_background": "light"
     },
     "output_type": "display_data"
    }
   ],
   "source": [
    "pmf = thinkstats2.Pmf(cdeath_agesex_week_grp_young_df.covid_deaths_sum, label='covid_death_young_age')\n",
    "thinkplot.Hist(pmf)\n",
    "thinkplot.Config(xlabel='Covid-19 Death Young Age', ylabel='Pmf')"
   ]
  },
  {
   "cell_type": "code",
   "execution_count": 27,
   "id": "0148a993",
   "metadata": {},
   "outputs": [
    {
     "data": {
      "image/png": "[encoded data removed]",
      "text/plain": [
       "<Figure size 432x288 with 1 Axes>"
      ]
     },
     "metadata": {
      "needs_background": "light"
     },
     "output_type": "display_data"
    }
   ],
   "source": [
    "thinkplot.Pmf(pmf)\n",
    "thinkplot.Config(xlabel='Covid-19 Death Young Age', ylabel='Pmf')"
   ]
  },
  {
   "cell_type": "code",
   "execution_count": 28,
   "id": "e5e05a29",
   "metadata": {},
   "outputs": [
    {
     "data": {
      "image/png": "[encoded data removed]",
      "text/plain": [
       "<Figure size 432x288 with 1 Axes>"
      ]
     },
     "metadata": {
      "needs_background": "light"
     },
     "output_type": "display_data"
    }
   ],
   "source": [
    "pmf = thinkstats2.Pmf(cdeath_agesex_week_grp_old_df.covid_deaths_sum, label='covid_death_old_age')\n",
    "thinkplot.Hist(pmf)\n",
    "thinkplot.Config(xlabel='Covid-19 Death Old Age', ylabel='Pmf')"
   ]
  },
  {
   "cell_type": "code",
   "execution_count": 29,
   "id": "eb0d4ed6",
   "metadata": {},
   "outputs": [
    {
     "data": {
      "image/png": "[encoded data removed]",
      "text/plain": [
       "<Figure size 432x288 with 1 Axes>"
      ]
     },
     "metadata": {
      "needs_background": "light"
     },
     "output_type": "display_data"
    }
   ],
   "source": [
    "thinkplot.Pmf(pmf)\n",
    "thinkplot.Config(xlabel='Covid-19 Death Old Age', ylabel='Pmf')"
   ]
  },
  {
   "cell_type": "markdown",
   "id": "3753c5a0",
   "metadata": {},
   "source": [
    "### Data set: covid_death_age_underlying_disease\n",
    "\n",
    "#### Data Transformation\n",
    "\n",
    "Showing sample from dataframe and count of records present in the dataframe after data cleaning"
   ]
  },
  {
   "cell_type": "code",
   "execution_count": 200,
   "id": "570b4c5e",
   "metadata": {},
   "outputs": [
    {
     "data": {
      "text/html": [
       "<div>\n",
       "<style scoped>\n",
       "    .dataframe tbody tr th:only-of-type {\n",
       "        vertical-align: middle;\n",
       "    }\n",
       "\n",
       "    .dataframe tbody tr th {\n",
       "        vertical-align: top;\n",
       "    }\n",
       "\n",
       "    .dataframe thead th {\n",
       "        text-align: right;\n",
       "    }\n",
       "</style>\n",
       "<table border=\"1\" class=\"dataframe\">\n",
       "  <thead>\n",
       "    <tr style=\"text-align: right;\">\n",
       "      <th></th>\n",
       "      <th>start_date</th>\n",
       "      <th>end_date</th>\n",
       "      <th>group</th>\n",
       "      <th>state</th>\n",
       "      <th>condition_group</th>\n",
       "      <th>condition</th>\n",
       "      <th>age_group</th>\n",
       "      <th>covid_deaths</th>\n",
       "      <th>year</th>\n",
       "      <th>month</th>\n",
       "      <th>underlying_condition</th>\n",
       "    </tr>\n",
       "  </thead>\n",
       "  <tbody>\n",
       "    <tr>\n",
       "      <th>0</th>\n",
       "      <td>2020-04-01</td>\n",
       "      <td>2020-04-30</td>\n",
       "      <td>By Month</td>\n",
       "      <td>United States</td>\n",
       "      <td>Respiratory diseases</td>\n",
       "      <td>Influenza and pneumonia</td>\n",
       "      <td>0-24</td>\n",
       "      <td>27.0</td>\n",
       "      <td>2020</td>\n",
       "      <td>4</td>\n",
       "      <td>Yes</td>\n",
       "    </tr>\n",
       "    <tr>\n",
       "      <th>1</th>\n",
       "      <td>2020-05-01</td>\n",
       "      <td>2020-05-31</td>\n",
       "      <td>By Month</td>\n",
       "      <td>United States</td>\n",
       "      <td>Respiratory diseases</td>\n",
       "      <td>Influenza and pneumonia</td>\n",
       "      <td>0-24</td>\n",
       "      <td>19.0</td>\n",
       "      <td>2020</td>\n",
       "      <td>5</td>\n",
       "      <td>Yes</td>\n",
       "    </tr>\n",
       "    <tr>\n",
       "      <th>2</th>\n",
       "      <td>2020-06-01</td>\n",
       "      <td>2020-06-30</td>\n",
       "      <td>By Month</td>\n",
       "      <td>United States</td>\n",
       "      <td>Respiratory diseases</td>\n",
       "      <td>Influenza and pneumonia</td>\n",
       "      <td>0-24</td>\n",
       "      <td>17.0</td>\n",
       "      <td>2020</td>\n",
       "      <td>6</td>\n",
       "      <td>Yes</td>\n",
       "    </tr>\n",
       "    <tr>\n",
       "      <th>3</th>\n",
       "      <td>2020-07-01</td>\n",
       "      <td>2020-07-31</td>\n",
       "      <td>By Month</td>\n",
       "      <td>United States</td>\n",
       "      <td>Respiratory diseases</td>\n",
       "      <td>Influenza and pneumonia</td>\n",
       "      <td>0-24</td>\n",
       "      <td>38.0</td>\n",
       "      <td>2020</td>\n",
       "      <td>7</td>\n",
       "      <td>Yes</td>\n",
       "    </tr>\n",
       "  </tbody>\n",
       "</table>\n",
       "</div>"
      ],
      "text/plain": [
       "  start_date   end_date     group          state       condition_group  \\\n",
       "0 2020-04-01 2020-04-30  By Month  United States  Respiratory diseases   \n",
       "1 2020-05-01 2020-05-31  By Month  United States  Respiratory diseases   \n",
       "2 2020-06-01 2020-06-30  By Month  United States  Respiratory diseases   \n",
       "3 2020-07-01 2020-07-31  By Month  United States  Respiratory diseases   \n",
       "\n",
       "                 condition age_group  covid_deaths  year  month  \\\n",
       "0  Influenza and pneumonia      0-24          27.0  2020      4   \n",
       "1  Influenza and pneumonia      0-24          19.0  2020      5   \n",
       "2  Influenza and pneumonia      0-24          17.0  2020      6   \n",
       "3  Influenza and pneumonia      0-24          38.0  2020      7   \n",
       "\n",
       "  underlying_condition  \n",
       "0                  Yes  \n",
       "1                  Yes  \n",
       "2                  Yes  \n",
       "3                  Yes  "
      ]
     },
     "execution_count": 200,
     "metadata": {},
     "output_type": "execute_result"
    }
   ],
   "source": [
    "cdeath_agedisease_df.head(4)"
   ]
  },
  {
   "cell_type": "code",
   "execution_count": 31,
   "id": "e57aad92",
   "metadata": {},
   "outputs": [
    {
     "data": {
      "text/plain": [
       "start_date         3105\n",
       "end_date           3105\n",
       "group              3105\n",
       "state              3105\n",
       "condition_group    3105\n",
       "condition          3105\n",
       "age_group          3105\n",
       "covid_deaths       3105\n",
       "year               3105\n",
       "month              3105\n",
       "dtype: int64"
      ]
     },
     "execution_count": 31,
     "metadata": {},
     "output_type": "execute_result"
    }
   ],
   "source": [
    "cdeath_agedisease_df.count()"
   ]
  },
  {
   "cell_type": "markdown",
   "id": "bc6446df",
   "metadata": {},
   "source": [
    "Adding additional variable called \"underlying condition\" derived from \"condition\" variable to denote if the person is having underlying disease or not "
   ]
  },
  {
   "cell_type": "code",
   "execution_count": 32,
   "id": "fd3dc6a0",
   "metadata": {},
   "outputs": [],
   "source": [
    "cdeath_agedisease_df['underlying_condition'] = np.where(cdeath_agedisease_df.condition == 'COVID-19','No','Yes')"
   ]
  },
  {
   "cell_type": "code",
   "execution_count": 33,
   "id": "e1cd93c6",
   "metadata": {},
   "outputs": [
    {
     "data": {
      "text/html": [
       "<div>\n",
       "<style scoped>\n",
       "    .dataframe tbody tr th:only-of-type {\n",
       "        vertical-align: middle;\n",
       "    }\n",
       "\n",
       "    .dataframe tbody tr th {\n",
       "        vertical-align: top;\n",
       "    }\n",
       "\n",
       "    .dataframe thead th {\n",
       "        text-align: right;\n",
       "    }\n",
       "</style>\n",
       "<table border=\"1\" class=\"dataframe\">\n",
       "  <thead>\n",
       "    <tr style=\"text-align: right;\">\n",
       "      <th></th>\n",
       "      <th>start_date</th>\n",
       "      <th>end_date</th>\n",
       "      <th>group</th>\n",
       "      <th>state</th>\n",
       "      <th>condition_group</th>\n",
       "      <th>condition</th>\n",
       "      <th>age_group</th>\n",
       "      <th>covid_deaths</th>\n",
       "      <th>year</th>\n",
       "      <th>month</th>\n",
       "      <th>underlying_condition</th>\n",
       "    </tr>\n",
       "  </thead>\n",
       "  <tbody>\n",
       "    <tr>\n",
       "      <th>0</th>\n",
       "      <td>2020-04-01</td>\n",
       "      <td>2020-04-30</td>\n",
       "      <td>By Month</td>\n",
       "      <td>United States</td>\n",
       "      <td>Respiratory diseases</td>\n",
       "      <td>Influenza and pneumonia</td>\n",
       "      <td>0-24</td>\n",
       "      <td>27.0</td>\n",
       "      <td>2020</td>\n",
       "      <td>4</td>\n",
       "      <td>Yes</td>\n",
       "    </tr>\n",
       "    <tr>\n",
       "      <th>1</th>\n",
       "      <td>2020-05-01</td>\n",
       "      <td>2020-05-31</td>\n",
       "      <td>By Month</td>\n",
       "      <td>United States</td>\n",
       "      <td>Respiratory diseases</td>\n",
       "      <td>Influenza and pneumonia</td>\n",
       "      <td>0-24</td>\n",
       "      <td>19.0</td>\n",
       "      <td>2020</td>\n",
       "      <td>5</td>\n",
       "      <td>Yes</td>\n",
       "    </tr>\n",
       "    <tr>\n",
       "      <th>2</th>\n",
       "      <td>2020-06-01</td>\n",
       "      <td>2020-06-30</td>\n",
       "      <td>By Month</td>\n",
       "      <td>United States</td>\n",
       "      <td>Respiratory diseases</td>\n",
       "      <td>Influenza and pneumonia</td>\n",
       "      <td>0-24</td>\n",
       "      <td>17.0</td>\n",
       "      <td>2020</td>\n",
       "      <td>6</td>\n",
       "      <td>Yes</td>\n",
       "    </tr>\n",
       "    <tr>\n",
       "      <th>3</th>\n",
       "      <td>2020-07-01</td>\n",
       "      <td>2020-07-31</td>\n",
       "      <td>By Month</td>\n",
       "      <td>United States</td>\n",
       "      <td>Respiratory diseases</td>\n",
       "      <td>Influenza and pneumonia</td>\n",
       "      <td>0-24</td>\n",
       "      <td>38.0</td>\n",
       "      <td>2020</td>\n",
       "      <td>7</td>\n",
       "      <td>Yes</td>\n",
       "    </tr>\n",
       "  </tbody>\n",
       "</table>\n",
       "</div>"
      ],
      "text/plain": [
       "  start_date   end_date     group          state       condition_group  \\\n",
       "0 2020-04-01 2020-04-30  By Month  United States  Respiratory diseases   \n",
       "1 2020-05-01 2020-05-31  By Month  United States  Respiratory diseases   \n",
       "2 2020-06-01 2020-06-30  By Month  United States  Respiratory diseases   \n",
       "3 2020-07-01 2020-07-31  By Month  United States  Respiratory diseases   \n",
       "\n",
       "                 condition age_group  covid_deaths  year  month  \\\n",
       "0  Influenza and pneumonia      0-24          27.0  2020      4   \n",
       "1  Influenza and pneumonia      0-24          19.0  2020      5   \n",
       "2  Influenza and pneumonia      0-24          17.0  2020      6   \n",
       "3  Influenza and pneumonia      0-24          38.0  2020      7   \n",
       "\n",
       "  underlying_condition  \n",
       "0                  Yes  \n",
       "1                  Yes  \n",
       "2                  Yes  \n",
       "3                  Yes  "
      ]
     },
     "execution_count": 33,
     "metadata": {},
     "output_type": "execute_result"
    }
   ],
   "source": [
    "cdeath_agedisease_df.head(4)"
   ]
  },
  {
   "cell_type": "markdown",
   "id": "c246c7ff",
   "metadata": {},
   "source": [
    "Transformation (group by) to get covid deaths by underlying condition and month"
   ]
  },
  {
   "cell_type": "code",
   "execution_count": 34,
   "id": "cbbd9dd2",
   "metadata": {},
   "outputs": [
    {
     "data": {
      "text/html": [
       "<div>\n",
       "<style scoped>\n",
       "    .dataframe tbody tr th:only-of-type {\n",
       "        vertical-align: middle;\n",
       "    }\n",
       "\n",
       "    .dataframe tbody tr th {\n",
       "        vertical-align: top;\n",
       "    }\n",
       "\n",
       "    .dataframe thead th {\n",
       "        text-align: right;\n",
       "    }\n",
       "</style>\n",
       "<table border=\"1\" class=\"dataframe\">\n",
       "  <thead>\n",
       "    <tr style=\"text-align: right;\">\n",
       "      <th></th>\n",
       "      <th>underlying_condition</th>\n",
       "      <th>start_date</th>\n",
       "      <th>covid_deaths_sum</th>\n",
       "    </tr>\n",
       "  </thead>\n",
       "  <tbody>\n",
       "    <tr>\n",
       "      <th>0</th>\n",
       "      <td>No</td>\n",
       "      <td>2020-04-01</td>\n",
       "      <td>65466.0</td>\n",
       "    </tr>\n",
       "    <tr>\n",
       "      <th>1</th>\n",
       "      <td>No</td>\n",
       "      <td>2020-05-01</td>\n",
       "      <td>38288.0</td>\n",
       "    </tr>\n",
       "    <tr>\n",
       "      <th>2</th>\n",
       "      <td>No</td>\n",
       "      <td>2020-06-01</td>\n",
       "      <td>17994.0</td>\n",
       "    </tr>\n",
       "    <tr>\n",
       "      <th>3</th>\n",
       "      <td>No</td>\n",
       "      <td>2020-07-01</td>\n",
       "      <td>31095.0</td>\n",
       "    </tr>\n",
       "  </tbody>\n",
       "</table>\n",
       "</div>"
      ],
      "text/plain": [
       "  underlying_condition start_date  covid_deaths_sum\n",
       "0                   No 2020-04-01           65466.0\n",
       "1                   No 2020-05-01           38288.0\n",
       "2                   No 2020-06-01           17994.0\n",
       "3                   No 2020-07-01           31095.0"
      ]
     },
     "execution_count": 34,
     "metadata": {},
     "output_type": "execute_result"
    }
   ],
   "source": [
    "cdeath_agedisease_grp_df = cdeath_agedisease_df.groupby(['underlying_condition','start_date']).agg({'covid_deaths':['sum']})\n",
    "cdeath_agedisease_grp_df.columns = ['covid_deaths_sum']\n",
    "cdeath_agedisease_grp_df = cdeath_agedisease_grp_df.reset_index()\n",
    "cdeath_agedisease_grp_df.head(4)"
   ]
  },
  {
   "cell_type": "markdown",
   "id": "16bfe4a5",
   "metadata": {},
   "source": [
    "Coverting the covid death count to nearest thousands"
   ]
  },
  {
   "cell_type": "code",
   "execution_count": 35,
   "id": "966b0635",
   "metadata": {},
   "outputs": [],
   "source": [
    "cdeath_agedisease_grp_df['covid_deaths_sum'] = (cdeath_agedisease_grp_df['covid_deaths_sum']/10000).astype(int)*10"
   ]
  },
  {
   "cell_type": "code",
   "execution_count": 36,
   "id": "ab943ef8",
   "metadata": {},
   "outputs": [
    {
     "data": {
      "text/html": [
       "<div>\n",
       "<style scoped>\n",
       "    .dataframe tbody tr th:only-of-type {\n",
       "        vertical-align: middle;\n",
       "    }\n",
       "\n",
       "    .dataframe tbody tr th {\n",
       "        vertical-align: top;\n",
       "    }\n",
       "\n",
       "    .dataframe thead th {\n",
       "        text-align: right;\n",
       "    }\n",
       "</style>\n",
       "<table border=\"1\" class=\"dataframe\">\n",
       "  <thead>\n",
       "    <tr style=\"text-align: right;\">\n",
       "      <th></th>\n",
       "      <th>underlying_condition</th>\n",
       "      <th>start_date</th>\n",
       "      <th>covid_deaths_sum</th>\n",
       "    </tr>\n",
       "  </thead>\n",
       "  <tbody>\n",
       "    <tr>\n",
       "      <th>0</th>\n",
       "      <td>No</td>\n",
       "      <td>2020-04-01</td>\n",
       "      <td>60</td>\n",
       "    </tr>\n",
       "    <tr>\n",
       "      <th>1</th>\n",
       "      <td>No</td>\n",
       "      <td>2020-05-01</td>\n",
       "      <td>30</td>\n",
       "    </tr>\n",
       "    <tr>\n",
       "      <th>2</th>\n",
       "      <td>No</td>\n",
       "      <td>2020-06-01</td>\n",
       "      <td>10</td>\n",
       "    </tr>\n",
       "    <tr>\n",
       "      <th>3</th>\n",
       "      <td>No</td>\n",
       "      <td>2020-07-01</td>\n",
       "      <td>30</td>\n",
       "    </tr>\n",
       "    <tr>\n",
       "      <th>4</th>\n",
       "      <td>No</td>\n",
       "      <td>2020-08-01</td>\n",
       "      <td>20</td>\n",
       "    </tr>\n",
       "  </tbody>\n",
       "</table>\n",
       "</div>"
      ],
      "text/plain": [
       "  underlying_condition start_date  covid_deaths_sum\n",
       "0                   No 2020-04-01                60\n",
       "1                   No 2020-05-01                30\n",
       "2                   No 2020-06-01                10\n",
       "3                   No 2020-07-01                30\n",
       "4                   No 2020-08-01                20"
      ]
     },
     "execution_count": 36,
     "metadata": {},
     "output_type": "execute_result"
    }
   ],
   "source": [
    "cdeath_agedisease_grp_df.head(5)"
   ]
  },
  {
   "cell_type": "markdown",
   "id": "0a7f26a0",
   "metadata": {},
   "source": [
    "Splitting the source dataframe into 2 dataframe; One having the records for the people with underlying condition and another for the people without any disease\n",
    "\n",
    "Displaying sample from both the dataframes"
   ]
  },
  {
   "cell_type": "code",
   "execution_count": 37,
   "id": "1a6b46ee",
   "metadata": {},
   "outputs": [],
   "source": [
    "cdeath_agedisease_grp_underlying_no_df = cdeath_agedisease_grp_df[(cdeath_agedisease_grp_df.underlying_condition == 'No')]\n",
    "cdeath_agedisease_grp_underlying_yes_df = cdeath_agedisease_grp_df[(cdeath_agedisease_grp_df.underlying_condition == 'Yes')]"
   ]
  },
  {
   "cell_type": "code",
   "execution_count": 38,
   "id": "8eb68ae4",
   "metadata": {},
   "outputs": [
    {
     "data": {
      "text/html": [
       "<div>\n",
       "<style scoped>\n",
       "    .dataframe tbody tr th:only-of-type {\n",
       "        vertical-align: middle;\n",
       "    }\n",
       "\n",
       "    .dataframe tbody tr th {\n",
       "        vertical-align: top;\n",
       "    }\n",
       "\n",
       "    .dataframe thead th {\n",
       "        text-align: right;\n",
       "    }\n",
       "</style>\n",
       "<table border=\"1\" class=\"dataframe\">\n",
       "  <thead>\n",
       "    <tr style=\"text-align: right;\">\n",
       "      <th></th>\n",
       "      <th>underlying_condition</th>\n",
       "      <th>start_date</th>\n",
       "      <th>covid_deaths_sum</th>\n",
       "    </tr>\n",
       "  </thead>\n",
       "  <tbody>\n",
       "    <tr>\n",
       "      <th>0</th>\n",
       "      <td>No</td>\n",
       "      <td>2020-04-01</td>\n",
       "      <td>60</td>\n",
       "    </tr>\n",
       "    <tr>\n",
       "      <th>1</th>\n",
       "      <td>No</td>\n",
       "      <td>2020-05-01</td>\n",
       "      <td>30</td>\n",
       "    </tr>\n",
       "    <tr>\n",
       "      <th>2</th>\n",
       "      <td>No</td>\n",
       "      <td>2020-06-01</td>\n",
       "      <td>10</td>\n",
       "    </tr>\n",
       "    <tr>\n",
       "      <th>3</th>\n",
       "      <td>No</td>\n",
       "      <td>2020-07-01</td>\n",
       "      <td>30</td>\n",
       "    </tr>\n",
       "  </tbody>\n",
       "</table>\n",
       "</div>"
      ],
      "text/plain": [
       "  underlying_condition start_date  covid_deaths_sum\n",
       "0                   No 2020-04-01                60\n",
       "1                   No 2020-05-01                30\n",
       "2                   No 2020-06-01                10\n",
       "3                   No 2020-07-01                30"
      ]
     },
     "execution_count": 38,
     "metadata": {},
     "output_type": "execute_result"
    }
   ],
   "source": [
    "cdeath_agedisease_grp_underlying_no_df.head(4)"
   ]
  },
  {
   "cell_type": "markdown",
   "id": "fa325b16",
   "metadata": {},
   "source": [
    "#### Histograms for 2nd data set"
   ]
  },
  {
   "cell_type": "code",
   "execution_count": 39,
   "id": "1978b195",
   "metadata": {},
   "outputs": [
    {
     "data": {
      "image/png": "[encoded data removed]",
      "text/plain": [
       "<Figure size 432x288 with 1 Axes>"
      ]
     },
     "metadata": {
      "needs_background": "light"
     },
     "output_type": "display_data"
    }
   ],
   "source": [
    "hist = thinkstats2.Hist(cdeath_agedisease_grp_underlying_no_df.covid_deaths_sum, label='Covid_Deaths with no underlying condition')\n",
    "thinkplot.Hist(hist)\n",
    "thinkplot.Config(xlabel='# of Covid Deaths (in thousands)', ylabel='Count')"
   ]
  },
  {
   "cell_type": "code",
   "execution_count": 40,
   "id": "774366d0",
   "metadata": {},
   "outputs": [
    {
     "data": {
      "text/html": [
       "<div>\n",
       "<style scoped>\n",
       "    .dataframe tbody tr th:only-of-type {\n",
       "        vertical-align: middle;\n",
       "    }\n",
       "\n",
       "    .dataframe tbody tr th {\n",
       "        vertical-align: top;\n",
       "    }\n",
       "\n",
       "    .dataframe thead th {\n",
       "        text-align: right;\n",
       "    }\n",
       "</style>\n",
       "<table border=\"1\" class=\"dataframe\">\n",
       "  <thead>\n",
       "    <tr style=\"text-align: right;\">\n",
       "      <th></th>\n",
       "      <th>underlying_condition</th>\n",
       "      <th>start_date</th>\n",
       "      <th>covid_deaths_sum</th>\n",
       "    </tr>\n",
       "  </thead>\n",
       "  <tbody>\n",
       "    <tr>\n",
       "      <th>15</th>\n",
       "      <td>Yes</td>\n",
       "      <td>2020-04-01</td>\n",
       "      <td>160</td>\n",
       "    </tr>\n",
       "    <tr>\n",
       "      <th>16</th>\n",
       "      <td>Yes</td>\n",
       "      <td>2020-05-01</td>\n",
       "      <td>90</td>\n",
       "    </tr>\n",
       "    <tr>\n",
       "      <th>17</th>\n",
       "      <td>Yes</td>\n",
       "      <td>2020-06-01</td>\n",
       "      <td>40</td>\n",
       "    </tr>\n",
       "    <tr>\n",
       "      <th>18</th>\n",
       "      <td>Yes</td>\n",
       "      <td>2020-07-01</td>\n",
       "      <td>80</td>\n",
       "    </tr>\n",
       "  </tbody>\n",
       "</table>\n",
       "</div>"
      ],
      "text/plain": [
       "   underlying_condition start_date  covid_deaths_sum\n",
       "15                  Yes 2020-04-01               160\n",
       "16                  Yes 2020-05-01                90\n",
       "17                  Yes 2020-06-01                40\n",
       "18                  Yes 2020-07-01                80"
      ]
     },
     "execution_count": 40,
     "metadata": {},
     "output_type": "execute_result"
    }
   ],
   "source": [
    "cdeath_agedisease_grp_underlying_yes_df.head(4)"
   ]
  },
  {
   "cell_type": "markdown",
   "id": "ed049f4c",
   "metadata": {},
   "source": [
    "Rounding off the covid deaths values for those having underlying conditions to nearest 25"
   ]
  },
  {
   "cell_type": "code",
   "execution_count": 41,
   "id": "c376a58a",
   "metadata": {},
   "outputs": [
    {
     "data": {
      "text/html": [
       "<div>\n",
       "<style scoped>\n",
       "    .dataframe tbody tr th:only-of-type {\n",
       "        vertical-align: middle;\n",
       "    }\n",
       "\n",
       "    .dataframe tbody tr th {\n",
       "        vertical-align: top;\n",
       "    }\n",
       "\n",
       "    .dataframe thead th {\n",
       "        text-align: right;\n",
       "    }\n",
       "</style>\n",
       "<table border=\"1\" class=\"dataframe\">\n",
       "  <thead>\n",
       "    <tr style=\"text-align: right;\">\n",
       "      <th></th>\n",
       "      <th>underlying_condition</th>\n",
       "      <th>start_date</th>\n",
       "      <th>covid_deaths_sum</th>\n",
       "    </tr>\n",
       "  </thead>\n",
       "  <tbody>\n",
       "    <tr>\n",
       "      <th>15</th>\n",
       "      <td>Yes</td>\n",
       "      <td>2020-04-01</td>\n",
       "      <td>150</td>\n",
       "    </tr>\n",
       "    <tr>\n",
       "      <th>16</th>\n",
       "      <td>Yes</td>\n",
       "      <td>2020-05-01</td>\n",
       "      <td>75</td>\n",
       "    </tr>\n",
       "    <tr>\n",
       "      <th>17</th>\n",
       "      <td>Yes</td>\n",
       "      <td>2020-06-01</td>\n",
       "      <td>25</td>\n",
       "    </tr>\n",
       "    <tr>\n",
       "      <th>18</th>\n",
       "      <td>Yes</td>\n",
       "      <td>2020-07-01</td>\n",
       "      <td>75</td>\n",
       "    </tr>\n",
       "    <tr>\n",
       "      <th>19</th>\n",
       "      <td>Yes</td>\n",
       "      <td>2020-08-01</td>\n",
       "      <td>75</td>\n",
       "    </tr>\n",
       "  </tbody>\n",
       "</table>\n",
       "</div>"
      ],
      "text/plain": [
       "   underlying_condition start_date  covid_deaths_sum\n",
       "15                  Yes 2020-04-01               150\n",
       "16                  Yes 2020-05-01                75\n",
       "17                  Yes 2020-06-01                25\n",
       "18                  Yes 2020-07-01                75\n",
       "19                  Yes 2020-08-01                75"
      ]
     },
     "execution_count": 41,
     "metadata": {},
     "output_type": "execute_result"
    }
   ],
   "source": [
    "cdeath_agedisease_grp_underlying_yes_df['covid_deaths_sum'] = (cdeath_agedisease_grp_underlying_yes_df['covid_deaths_sum']/25).astype(int)*25\n",
    "cdeath_agedisease_grp_underlying_yes_df.head(5)"
   ]
  },
  {
   "cell_type": "code",
   "execution_count": 42,
   "id": "b5fa6c61",
   "metadata": {},
   "outputs": [
    {
     "data": {
      "image/png": "[encoded data removed]",
      "text/plain": [
       "<Figure size 432x288 with 1 Axes>"
      ]
     },
     "metadata": {
      "needs_background": "light"
     },
     "output_type": "display_data"
    }
   ],
   "source": [
    "hist = thinkstats2.Hist(cdeath_agedisease_grp_underlying_yes_df.covid_deaths_sum, label='Covid_Deaths with underlying condition')\n",
    "thinkplot.Hist(hist)\n",
    "thinkplot.Config(xlabel='# of Covid Deaths (in thousands)', ylabel='Count')"
   ]
  },
  {
   "cell_type": "code",
   "execution_count": 266,
   "id": "53c2ad56",
   "metadata": {},
   "outputs": [],
   "source": [
    "cdeath_agedisease_df_filter_cond = cdeath_agedisease_df[(cdeath_agedisease_df.condition_group != 'COVID-19')]\n",
    "cdeath_cond_deaths_grp_df = cdeath_agedisease_df_filter_cond.groupby(['condition_group']).agg({'covid_deaths':['sum']})\n",
    "cdeath_cond_deaths_grp_df.columns = ['covid_deaths_sum']\n",
    "cdeath_cond_deaths_grp_df = cdeath_cond_deaths_grp_df.reset_index()"
   ]
  },
  {
   "cell_type": "code",
   "execution_count": 267,
   "id": "9074ab10",
   "metadata": {},
   "outputs": [
    {
     "data": {
      "text/html": [
       "<div>\n",
       "<style scoped>\n",
       "    .dataframe tbody tr th:only-of-type {\n",
       "        vertical-align: middle;\n",
       "    }\n",
       "\n",
       "    .dataframe tbody tr th {\n",
       "        vertical-align: top;\n",
       "    }\n",
       "\n",
       "    .dataframe thead th {\n",
       "        text-align: right;\n",
       "    }\n",
       "</style>\n",
       "<table border=\"1\" class=\"dataframe\">\n",
       "  <thead>\n",
       "    <tr style=\"text-align: right;\">\n",
       "      <th></th>\n",
       "      <th>condition_group</th>\n",
       "      <th>covid_deaths_sum</th>\n",
       "    </tr>\n",
       "  </thead>\n",
       "  <tbody>\n",
       "    <tr>\n",
       "      <th>0</th>\n",
       "      <td>All other conditions and causes (residual)</td>\n",
       "      <td>232053.0</td>\n",
       "    </tr>\n",
       "    <tr>\n",
       "      <th>1</th>\n",
       "      <td>Alzheimer disease</td>\n",
       "      <td>21445.0</td>\n",
       "    </tr>\n",
       "    <tr>\n",
       "      <th>2</th>\n",
       "      <td>Circulatory diseases</td>\n",
       "      <td>414852.0</td>\n",
       "    </tr>\n",
       "    <tr>\n",
       "      <th>3</th>\n",
       "      <td>Diabetes</td>\n",
       "      <td>95623.0</td>\n",
       "    </tr>\n",
       "  </tbody>\n",
       "</table>\n",
       "</div>"
      ],
      "text/plain": [
       "                              condition_group  covid_deaths_sum\n",
       "0  All other conditions and causes (residual)          232053.0\n",
       "1                           Alzheimer disease           21445.0\n",
       "2                        Circulatory diseases          414852.0\n",
       "3                                    Diabetes           95623.0"
      ]
     },
     "execution_count": 267,
     "metadata": {},
     "output_type": "execute_result"
    }
   ],
   "source": [
    "cdeath_cond_deaths_grp_df.head(4)"
   ]
  },
  {
   "cell_type": "code",
   "execution_count": 279,
   "id": "a00560cf",
   "metadata": {},
   "outputs": [
    {
     "data": {
      "text/plain": [
       "<BarContainer object of 11 artists>"
      ]
     },
     "execution_count": 279,
     "metadata": {},
     "output_type": "execute_result"
    },
    {
     "data": {
      "image/png": "[encoded data removed]",
      "text/plain": [
       "<Figure size 1800x504 with 1 Axes>"
      ]
     },
     "metadata": {
      "needs_background": "light"
     },
     "output_type": "display_data"
    }
   ],
   "source": [
    "f_covid_cond = plt.figure()\n",
    "f_covid_cond.set_figwidth(25)\n",
    "f_covid_cond.set_figheight(7)\n",
    "xs_covid_cond = cdeath_cond_deaths_grp_df['condition_group']\n",
    "ys_covid_cond = cdeath_cond_deaths_grp_df['covid_deaths_sum']\n",
    "\n",
    "plt.xlabel('Underlying Conditions')\n",
    "plt.ylabel('Covid Death Count')\n",
    "plt.bar(xs_covid_cond, ys_covid_cond, width=0.3)"
   ]
  },
  {
   "cell_type": "markdown",
   "id": "ec531bff",
   "metadata": {},
   "source": [
    "#### Summary Statistics for 2nd data set"
   ]
  },
  {
   "cell_type": "code",
   "execution_count": 43,
   "id": "54de187a",
   "metadata": {},
   "outputs": [
    {
     "name": "stdout",
     "output_type": "stream",
     "text": [
      "The mean of covid deaths of young age across weeks: 33.33\n",
      "The variance of covid deaths of young age across weeks: 895.24\n",
      "The standard deviation of covid deaths of young age across weeks: 29.92\n"
     ]
    }
   ],
   "source": [
    "cdeath_nou_mean = cdeath_agedisease_grp_underlying_no_df.covid_deaths_sum.mean()\n",
    "cdeath_nou_var = cdeath_agedisease_grp_underlying_no_df.covid_deaths_sum.var()\n",
    "cdeath_nou_std = cdeath_agedisease_grp_underlying_no_df.covid_deaths_sum.std()\n",
    "print(\"The mean of covid deaths of young age across weeks: {:.2f}\".format(cdeath_nou_mean))\n",
    "print(\"The variance of covid deaths of young age across weeks: {:.2f}\".format(cdeath_nou_var))\n",
    "print(\"The standard deviation of covid deaths of young age across weeks: {:.2f}\".format(cdeath_nou_std))"
   ]
  },
  {
   "cell_type": "code",
   "execution_count": 44,
   "id": "b5413805",
   "metadata": {},
   "outputs": [
    {
     "name": "stdout",
     "output_type": "stream",
     "text": [
      "The mean of covid deaths of young age across weeks: 95.00\n",
      "The variance of covid deaths of young age across weeks: 7071.43\n",
      "The standard deviation of covid deaths of young age across weeks: 84.09\n"
     ]
    }
   ],
   "source": [
    "cdeath_u_mean = cdeath_agedisease_grp_underlying_yes_df.covid_deaths_sum.mean()\n",
    "cdeath_u_var = cdeath_agedisease_grp_underlying_yes_df.covid_deaths_sum.var()\n",
    "cdeath_u_std = cdeath_agedisease_grp_underlying_yes_df.covid_deaths_sum.std()\n",
    "print(\"The mean of covid deaths of young age across weeks: {:.2f}\".format(cdeath_u_mean))\n",
    "print(\"The variance of covid deaths of young age across weeks: {:.2f}\".format(cdeath_u_var))\n",
    "print(\"The standard deviation of covid deaths of young age across weeks: {:.2f}\".format(cdeath_u_std))"
   ]
  },
  {
   "cell_type": "markdown",
   "id": "f651f7ea",
   "metadata": {},
   "source": [
    "#### PMF for 2nd data set"
   ]
  },
  {
   "cell_type": "code",
   "execution_count": 45,
   "id": "4caa1ded",
   "metadata": {},
   "outputs": [
    {
     "data": {
      "image/png": "[encoded data removed]",
      "text/plain": [
       "<Figure size 432x288 with 1 Axes>"
      ]
     },
     "metadata": {
      "needs_background": "light"
     },
     "output_type": "display_data"
    }
   ],
   "source": [
    "pmf = thinkstats2.Pmf(cdeath_agedisease_grp_underlying_no_df.covid_deaths_sum, label='covid_death')\n",
    "thinkplot.Hist(pmf)\n",
    "thinkplot.Config(xlabel='Covid-19 Death without underlying condition)', ylabel='Pmf')"
   ]
  },
  {
   "cell_type": "code",
   "execution_count": 46,
   "id": "91d3ab01",
   "metadata": {},
   "outputs": [
    {
     "data": {
      "image/png": "[encoded data removed]",
      "text/plain": [
       "<Figure size 432x288 with 1 Axes>"
      ]
     },
     "metadata": {
      "needs_background": "light"
     },
     "output_type": "display_data"
    }
   ],
   "source": [
    "thinkplot.Pmf(pmf)\n",
    "thinkplot.Config(xlabel='Covid-19 Death without underlying condition', ylabel='Pmf')"
   ]
  },
  {
   "cell_type": "code",
   "execution_count": 47,
   "id": "4cf2eb0f",
   "metadata": {},
   "outputs": [
    {
     "data": {
      "image/png": "[encoded data removed]",
      "text/plain": [
       "<Figure size 432x288 with 1 Axes>"
      ]
     },
     "metadata": {
      "needs_background": "light"
     },
     "output_type": "display_data"
    }
   ],
   "source": [
    "pmf = thinkstats2.Pmf(cdeath_agedisease_grp_underlying_yes_df.covid_deaths_sum, label='covid_death')\n",
    "thinkplot.Hist(pmf)\n",
    "thinkplot.Config(xlabel='Covid-19 Death with underlying condition', ylabel='Pmf')"
   ]
  },
  {
   "cell_type": "code",
   "execution_count": 48,
   "id": "8f032dfc",
   "metadata": {},
   "outputs": [
    {
     "data": {
      "image/png": "[encoded data removed]",
      "text/plain": [
       "<Figure size 432x288 with 1 Axes>"
      ]
     },
     "metadata": {
      "needs_background": "light"
     },
     "output_type": "display_data"
    }
   ],
   "source": [
    "thinkplot.Pmf(pmf)\n",
    "thinkplot.Config(xlabel='Covid-19 Death with underlying condition', ylabel='Pmf')"
   ]
  },
  {
   "cell_type": "markdown",
   "id": "67183872",
   "metadata": {},
   "source": [
    "### CDF\n",
    "\n",
    "Applying CDF for the monthly covid death by age and underlying condition data set and weekly covid deaths by age and sex "
   ]
  },
  {
   "cell_type": "code",
   "execution_count": 49,
   "id": "932ed5ac",
   "metadata": {},
   "outputs": [],
   "source": [
    "cdf = thinkstats2.Cdf(cdeath_agedisease_grp_df.covid_deaths_sum, label='Covid-19 deaths')"
   ]
  },
  {
   "cell_type": "code",
   "execution_count": 50,
   "id": "a57b21b1",
   "metadata": {},
   "outputs": [
    {
     "data": {
      "image/png": "[encoded data removed]",
      "text/plain": [
       "<Figure size 432x288 with 1 Axes>"
      ]
     },
     "metadata": {
      "needs_background": "light"
     },
     "output_type": "display_data"
    },
    {
     "data": {
      "text/plain": [
       "<Figure size 576x432 with 0 Axes>"
      ]
     },
     "metadata": {},
     "output_type": "display_data"
    }
   ],
   "source": [
    "thinkplot.Cdf(cdf)\n",
    "thinkplot.Show(xlabel='Covid-19 death count', ylabel='CDF')"
   ]
  },
  {
   "cell_type": "code",
   "execution_count": 201,
   "id": "f18c7605",
   "metadata": {},
   "outputs": [],
   "source": [
    "cdf1 = thinkstats2.Cdf(cdeath_agesex_week_grp_df.covid_deaths_sum, label='Covid-19 deaths')"
   ]
  },
  {
   "cell_type": "code",
   "execution_count": 202,
   "id": "8830f759",
   "metadata": {},
   "outputs": [
    {
     "data": {
      "image/png": "[encoded data removed]",
      "text/plain": [
       "<Figure size 432x288 with 1 Axes>"
      ]
     },
     "metadata": {
      "needs_background": "light"
     },
     "output_type": "display_data"
    },
    {
     "data": {
      "text/plain": [
       "<Figure size 576x432 with 0 Axes>"
      ]
     },
     "metadata": {},
     "output_type": "display_data"
    }
   ],
   "source": [
    "thinkplot.Cdf(cdf1)\n",
    "thinkplot.Show(xlabel='Covid-19 death count', ylabel='CDF')"
   ]
  },
  {
   "cell_type": "markdown",
   "id": "e53a8c3d",
   "metadata": {},
   "source": [
    "Observation: One way to read CDF is to look up percentiles. Here, around 80% of the Covid deaths are less than or equal to 7500 which corresponds to young people having age less than 55."
   ]
  },
  {
   "cell_type": "markdown",
   "id": "ab824b6f",
   "metadata": {},
   "source": [
    "#### Analytical Distribution"
   ]
  },
  {
   "cell_type": "code",
   "execution_count": 105,
   "id": "017a183e",
   "metadata": {},
   "outputs": [
    {
     "name": "stdout",
     "output_type": "stream",
     "text": [
      "Mean:  673.015873015873\n",
      "Var:  137525.82514487277\n",
      "Sigma:  370.8447453380899\n"
     ]
    },
    {
     "data": {
      "image/png": "[encoded data removed]",
      "text/plain": [
       "<Figure size 432x288 with 1 Axes>"
      ]
     },
     "metadata": {
      "needs_background": "light"
     },
     "output_type": "display_data"
    }
   ],
   "source": [
    "#Analytical Distribution\n",
    "\n",
    "youngdeaths = cdeath_agesex_week_grp_young_df.covid_deaths_sum.dropna()\n",
    "\n",
    "mu, var = thinkstats2.TrimmedMeanVar(youngdeaths, p=0.02)\n",
    "print('Mean: ', mu)\n",
    "print('Var: ',var)\n",
    "\n",
    "sigma = np.sqrt(var)\n",
    "print('Sigma: ', sigma)\n",
    "\n",
    "xs, ps = thinkstats2.RenderNormalCdf(mu, sigma, low=0, high=1750)\n",
    "\n",
    "thinkplot.Plot(xs, ps, label='model', color='0.6')\n",
    "cdf= thinkstats2.Cdf(youngdeaths, label='data')\n",
    "\n",
    "thinkplot.PrePlot(1)\n",
    "thinkplot.Cdf(cdf)\n",
    "thinkplot.Config(title ='CovidDeaths for Young Age',\n",
    "                 xlabel= 'Covid Deaths',\n",
    "                 ylabel= 'CDF')"
   ]
  },
  {
   "cell_type": "code",
   "execution_count": 107,
   "id": "8b7a6e2d",
   "metadata": {},
   "outputs": [
    {
     "name": "stdout",
     "output_type": "stream",
     "text": [
      "Mean:  7761.9047619047615\n",
      "Var:  36117913.83219954\n",
      "Sigma:  6009.818119727048\n"
     ]
    },
    {
     "data": {
      "image/png": "[encoded data removed]",
      "text/plain": [
       "<Figure size 432x288 with 1 Axes>"
      ]
     },
     "metadata": {
      "needs_background": "light"
     },
     "output_type": "display_data"
    }
   ],
   "source": [
    "#Analytical Distribution\n",
    "\n",
    "olddeaths = cdeath_agesex_week_grp_old_df.covid_deaths_sum.dropna()\n",
    "\n",
    "mu, var = thinkstats2.TrimmedMeanVar(olddeaths, p=0.02)\n",
    "print('Mean: ', mu)\n",
    "print('Var: ',var)\n",
    "\n",
    "sigma = np.sqrt(var)\n",
    "print('Sigma: ', sigma)\n",
    "\n",
    "xs, ps = thinkstats2.RenderNormalCdf(mu, sigma, low=0, high=25000)\n",
    "\n",
    "thinkplot.Plot(xs, ps, label='model', color='0.6')\n",
    "cdf= thinkstats2.Cdf(olddeaths, label='data')\n",
    "\n",
    "thinkplot.PrePlot(1)\n",
    "thinkplot.Cdf(cdf)\n",
    "thinkplot.Config(title ='CovidDeaths for Old Age',\n",
    "                 xlabel= 'Covid Deaths',\n",
    "                 ylabel= 'CDF')"
   ]
  },
  {
   "cell_type": "markdown",
   "id": "cd8538b0",
   "metadata": {},
   "source": [
    "#### Scatter Plot"
   ]
  },
  {
   "cell_type": "code",
   "execution_count": 122,
   "id": "a1a19e37",
   "metadata": {},
   "outputs": [
    {
     "data": {
      "text/html": [
       "<div>\n",
       "<style scoped>\n",
       "    .dataframe tbody tr th:only-of-type {\n",
       "        vertical-align: middle;\n",
       "    }\n",
       "\n",
       "    .dataframe tbody tr th {\n",
       "        vertical-align: top;\n",
       "    }\n",
       "\n",
       "    .dataframe thead th {\n",
       "        text-align: right;\n",
       "    }\n",
       "</style>\n",
       "<table border=\"1\" class=\"dataframe\">\n",
       "  <thead>\n",
       "    <tr style=\"text-align: right;\">\n",
       "      <th></th>\n",
       "      <th>state</th>\n",
       "      <th>mmwr_week</th>\n",
       "      <th>end_week</th>\n",
       "      <th>sex</th>\n",
       "      <th>age_group</th>\n",
       "      <th>total_deaths</th>\n",
       "      <th>covid_deaths</th>\n",
       "      <th>year</th>\n",
       "      <th>month</th>\n",
       "      <th>age_split</th>\n",
       "    </tr>\n",
       "  </thead>\n",
       "  <tbody>\n",
       "    <tr>\n",
       "      <th>0</th>\n",
       "      <td>United States</td>\n",
       "      <td>14</td>\n",
       "      <td>2020-04-04</td>\n",
       "      <td>All Sex</td>\n",
       "      <td>Under 1 year</td>\n",
       "      <td>343.0</td>\n",
       "      <td>1.0</td>\n",
       "      <td>2020</td>\n",
       "      <td>4</td>\n",
       "      <td>Young</td>\n",
       "    </tr>\n",
       "    <tr>\n",
       "      <th>1</th>\n",
       "      <td>United States</td>\n",
       "      <td>14</td>\n",
       "      <td>2020-04-04</td>\n",
       "      <td>All Sex</td>\n",
       "      <td>1-4</td>\n",
       "      <td>58.0</td>\n",
       "      <td>0.0</td>\n",
       "      <td>2020</td>\n",
       "      <td>4</td>\n",
       "      <td>Young</td>\n",
       "    </tr>\n",
       "    <tr>\n",
       "      <th>2</th>\n",
       "      <td>United States</td>\n",
       "      <td>14</td>\n",
       "      <td>2020-04-04</td>\n",
       "      <td>All Sex</td>\n",
       "      <td>5-14</td>\n",
       "      <td>98.0</td>\n",
       "      <td>0.0</td>\n",
       "      <td>2020</td>\n",
       "      <td>4</td>\n",
       "      <td>Young</td>\n",
       "    </tr>\n",
       "    <tr>\n",
       "      <th>3</th>\n",
       "      <td>United States</td>\n",
       "      <td>14</td>\n",
       "      <td>2020-04-04</td>\n",
       "      <td>All Sex</td>\n",
       "      <td>15-24</td>\n",
       "      <td>619.0</td>\n",
       "      <td>14.0</td>\n",
       "      <td>2020</td>\n",
       "      <td>4</td>\n",
       "      <td>Young</td>\n",
       "    </tr>\n",
       "  </tbody>\n",
       "</table>\n",
       "</div>"
      ],
      "text/plain": [
       "           state  mmwr_week   end_week      sex     age_group  total_deaths  \\\n",
       "0  United States         14 2020-04-04  All Sex  Under 1 year         343.0   \n",
       "1  United States         14 2020-04-04  All Sex          1-4           58.0   \n",
       "2  United States         14 2020-04-04  All Sex         5-14           98.0   \n",
       "3  United States         14 2020-04-04  All Sex        15-24          619.0   \n",
       "\n",
       "   covid_deaths  year  month age_split  \n",
       "0           1.0  2020      4     Young  \n",
       "1           0.0  2020      4     Young  \n",
       "2           0.0  2020      4     Young  \n",
       "3          14.0  2020      4     Young  "
      ]
     },
     "execution_count": 122,
     "metadata": {},
     "output_type": "execute_result"
    }
   ],
   "source": [
    "cdeath_agesex_week_df['age_group'] = cdeath_agesex_week_df['age_group'].str.replace('Years','')\n",
    "cdeath_agesex_week_df.head(4)"
   ]
  },
  {
   "cell_type": "code",
   "execution_count": 126,
   "id": "f448fa19",
   "metadata": {},
   "outputs": [],
   "source": [
    "import matplotlib.pyplot as plt"
   ]
  },
  {
   "cell_type": "code",
   "execution_count": 131,
   "id": "160d4d41",
   "metadata": {},
   "outputs": [
    {
     "data": {
      "text/plain": [
       "<matplotlib.collections.PathCollection at 0x2954bed9460>"
      ]
     },
     "execution_count": 131,
     "metadata": {},
     "output_type": "execute_result"
    },
    {
     "data": {
      "image/png": "[encoded data removed]",
      "text/plain": [
       "<Figure size 720x432 with 1 Axes>"
      ]
     },
     "metadata": {
      "needs_background": "light"
     },
     "output_type": "display_data"
    }
   ],
   "source": [
    "#Scatter Plot of 2 variables\n",
    "\n",
    "#Weekly covid death count by Age \n",
    "age_grp, covid_deaths = cdeath_agesex_week_df.age_group, cdeath_agesex_week_df.covid_deaths\n",
    "\n",
    "plt.figure(figsize=(10, 6))\n",
    "plt.xlabel(\"Age Group\")\n",
    "plt.ylabel(\"Covid Death Count\")\n",
    "plt.scatter(age_grp, covid_deaths)"
   ]
  },
  {
   "cell_type": "code",
   "execution_count": 136,
   "id": "9b816bb7",
   "metadata": {},
   "outputs": [
    {
     "data": {
      "text/plain": [
       "<matplotlib.collections.PathCollection at 0x2954bf8ec70>"
      ]
     },
     "execution_count": 136,
     "metadata": {},
     "output_type": "execute_result"
    },
    {
     "data": {
      "image/png": "[encoded data removed]",
      "text/plain": [
       "<Figure size 720x432 with 1 Axes>"
      ]
     },
     "metadata": {
      "needs_background": "light"
     },
     "output_type": "display_data"
    }
   ],
   "source": [
    "#Covid deaths by Age with and without underlying condition\n",
    "\n",
    "age_grp, covid_deaths = cdeath_agedisease_df.age_group, cdeath_agedisease_df.covid_deaths\n",
    "\n",
    "plt.figure(figsize=(10, 6))\n",
    "plt.xlabel(\"Age Group\")\n",
    "plt.ylabel(\"Covid Death Count\")\n",
    "plt.scatter(age_grp, covid_deaths)"
   ]
  },
  {
   "cell_type": "markdown",
   "id": "2557beb4",
   "metadata": {},
   "source": [
    "### Correlation"
   ]
  },
  {
   "cell_type": "code",
   "execution_count": 142,
   "id": "95417a19",
   "metadata": {},
   "outputs": [],
   "source": [
    "from scipy import stats"
   ]
  },
  {
   "cell_type": "code",
   "execution_count": 144,
   "id": "fb4547de",
   "metadata": {},
   "outputs": [
    {
     "name": "stdout",
     "output_type": "stream",
     "text": [
      "558.9702216741833 1.0799474278897298e-91\n"
     ]
    }
   ],
   "source": [
    "#Parametric test using one-way anova\n",
    "young = cdeath_agesex_week_df[cdeath_agesex_week_df.age_split == 'Young'].covid_deaths.dropna()\n",
    "old = cdeath_agesex_week_df[cdeath_agesex_week_df.age_split == 'Old'].covid_deaths.dropna()\n",
    "\n",
    "F, p = stats.f_oneway(young, old)\n",
    "print(F, p)"
   ]
  },
  {
   "cell_type": "code",
   "execution_count": 146,
   "id": "6b261f7e",
   "metadata": {},
   "outputs": [
    {
     "name": "stdout",
     "output_type": "stream",
     "text": [
      "474.7215374504302\n"
     ]
    }
   ],
   "source": [
    "#Non-parametric test for correlation with categorical data\n",
    "\n",
    "young = cdeath_agesex_week_df[cdeath_agesex_week_df.age_split == 'Young'].covid_deaths.dropna()\n",
    "old = cdeath_agesex_week_df[cdeath_agesex_week_df.age_split == 'Old'].covid_deaths.dropna()\n",
    "\n",
    "F, p = stats.kruskal(young, old)\n",
    "print(F)"
   ]
  },
  {
   "cell_type": "markdown",
   "id": "aeaba14a",
   "metadata": {},
   "source": [
    "#### Hypothesis Test"
   ]
  },
  {
   "cell_type": "code",
   "execution_count": 161,
   "id": "89e64ce3",
   "metadata": {},
   "outputs": [
    {
     "name": "stdout",
     "output_type": "stream",
     "text": [
      "Number of young people died because of covid19:  47252.0\n",
      "Number of old people died because of covid19:  550910.0\n",
      "\n",
      "Mean of young people deaths because of covid19:  103.85054945054945\n",
      "Median of young people deaths because of covid19:  13.0\n",
      "\n",
      "Mean of old people deaths because of covid19:  2118.8846153846152\n",
      "Median of old people deaths because of covid19:  1419.5\n"
     ]
    }
   ],
   "source": [
    "#Hypothesis test\n",
    "\n",
    "n = len(cdeath_agesex_week_df)\n",
    "young = cdeath_agesex_week_df[cdeath_agesex_week_df.age_split == 'Young'].covid_deaths.dropna()\n",
    "old = cdeath_agesex_week_df[cdeath_agesex_week_df.age_split == 'Old'].covid_deaths.dropna()\n",
    "\n",
    "young_deaths = sum(young)\n",
    "old_deaths = sum(old)\n",
    "print(\"Number of young people died because of covid19: \",young_deaths)\n",
    "print(\"Number of old people died because of covid19: \",old_deaths)\n",
    "\n",
    "young_death_mean = young.mean()\n",
    "old_death_mean = old.mean()\n",
    "\n",
    "young_death_median = young.median()\n",
    "old_death_median = old.median()\n",
    "\n",
    "print(\"\\nMean of young people deaths because of covid19: \",young_death_mean)\n",
    "print(\"Median of young people deaths because of covid19: \",young_death_median)\n",
    "\n",
    "print(\"\\nMean of old people deaths because of covid19: \",old_death_mean)\n",
    "print(\"Median of old people deaths because of covid19: \",old_death_median)\n"
   ]
  },
  {
   "cell_type": "code",
   "execution_count": 162,
   "id": "721525c9",
   "metadata": {},
   "outputs": [],
   "source": [
    "ht_data = young, old"
   ]
  },
  {
   "cell_type": "code",
   "execution_count": 164,
   "id": "9d682298",
   "metadata": {},
   "outputs": [],
   "source": [
    "import hypothesis"
   ]
  },
  {
   "cell_type": "code",
   "execution_count": 165,
   "id": "7c285adc",
   "metadata": {},
   "outputs": [
    {
     "data": {
      "text/plain": [
       "0.0"
      ]
     },
     "execution_count": 165,
     "metadata": {},
     "output_type": "execute_result"
    }
   ],
   "source": [
    "hyp_test = hypothesis.DiffMeansPermute(ht_data)\n",
    "pvalue = hyp_test.PValue()\n",
    "test_statistic = hyp_test.TestStatistic(ht_data)\n",
    "test_statistic\n",
    "pvalue = hyp_test.PValue()\n",
    "pvalue"
   ]
  },
  {
   "cell_type": "code",
   "execution_count": 166,
   "id": "2699c209",
   "metadata": {},
   "outputs": [
    {
     "name": "stdout",
     "output_type": "stream",
     "text": [
      "Test statistic is: -23.642551082194643\n",
      "p-value is: 1.0799474278901366e-91\n"
     ]
    }
   ],
   "source": [
    "t_value, p_value = stats.ttest_ind(young,old)\n",
    "\n",
    "print(f\"Test statistic is: {t_value}\")\n",
    "\n",
    "print(f\"p-value is: {p_value}\")"
   ]
  },
  {
   "cell_type": "markdown",
   "id": "6348d947",
   "metadata": {},
   "source": [
    "The p-value is 0. So, the p-value tells that the test is statistically significant and with 99% confidence we can reject the null hypothesis in favor of alternative hypothesis that the difference in average covid death of young and old people is not due to chance."
   ]
  },
  {
   "cell_type": "code",
   "execution_count": 183,
   "id": "7781bc54",
   "metadata": {},
   "outputs": [
    {
     "name": "stdout",
     "output_type": "stream",
     "text": [
      "Number of people with underlying condition died because of covid19:  1657395.0\n",
      "Number of people without any underlying condition died because of covid19:  595374.0\n",
      "\n",
      "Mean of covid deaths for the people with underlying condition: 558.05\n",
      "Median of covid deaths for the people with underlying condition: 105.00\n",
      "\n",
      "Mean of covid deaths for the people without underlying condition: 4410.18\n",
      "Median of covid deaths for the people without underlying condition: 1591.00\n"
     ]
    }
   ],
   "source": [
    "#Hypothesis test\n",
    "\n",
    "n = len(cdeath_agedisease_df)\n",
    "cond_yes = cdeath_agedisease_df[cdeath_agedisease_df.underlying_condition == 'Yes'].covid_deaths.dropna()\n",
    "cond_no = cdeath_agedisease_df[cdeath_agedisease_df.underlying_condition == 'No'].covid_deaths.dropna()\n",
    "\n",
    "cond_yes_deaths = sum(cond_yes)\n",
    "cond_no_deaths = sum(cond_no)\n",
    "print(\"Number of people with underlying condition died because of covid19: \",cond_yes_deaths)\n",
    "print(\"Number of people without any underlying condition died because of covid19: \",cond_no_deaths)\n",
    "\n",
    "cond_yes_mean = cond_yes.mean()\n",
    "cond_no_mean = cond_no.mean()\n",
    "\n",
    "cond_yes_median = cond_yes.median()\n",
    "cond_no_median = cond_no.median()\n",
    "\n",
    "print(\"\\nMean of covid deaths for the people with underlying condition: {:.2f}\".format(cond_yes_mean))\n",
    "print(\"Median of covid deaths for the people with underlying condition: {:.2f}\".format(cond_yes_median))\n",
    "\n",
    "print(\"\\nMean of covid deaths for the people without underlying condition: {:.2f}\".format(cond_no_mean))\n",
    "print(\"Median of covid deaths for the people without underlying condition: {:.2f}\".format(cond_no_median))\n"
   ]
  },
  {
   "cell_type": "code",
   "execution_count": 184,
   "id": "b25d0261",
   "metadata": {},
   "outputs": [],
   "source": [
    "ht_data = cond_yes, cond_no"
   ]
  },
  {
   "cell_type": "code",
   "execution_count": 185,
   "id": "7053e9b1",
   "metadata": {},
   "outputs": [
    {
     "data": {
      "text/plain": [
       "0.0"
      ]
     },
     "execution_count": 185,
     "metadata": {},
     "output_type": "execute_result"
    }
   ],
   "source": [
    "hyp_test = hypothesis.DiffMeansPermute(ht_data)\n",
    "pvalue = hyp_test.PValue()\n",
    "test_statistic = hyp_test.TestStatistic(ht_data)\n",
    "test_statistic\n",
    "pvalue = hyp_test.PValue()\n",
    "pvalue"
   ]
  },
  {
   "cell_type": "code",
   "execution_count": 186,
   "id": "710f30c6",
   "metadata": {},
   "outputs": [
    {
     "name": "stdout",
     "output_type": "stream",
     "text": [
      "Test statistic is: -23.27430945468092\n",
      "p-value is: 1.4175494543129118e-110\n"
     ]
    }
   ],
   "source": [
    "t_value, p_value = stats.ttest_ind(cond_yes,cond_no)\n",
    "\n",
    "print(f\"Test statistic is: {t_value}\")\n",
    "\n",
    "print(f\"p-value is: {p_value}\")"
   ]
  },
  {
   "cell_type": "markdown",
   "id": "f0b1a68d",
   "metadata": {},
   "source": [
    "The p-value is 0. So, the p-value tells that the test is statistically significant and with 99% confidence we can reject the null hypothesis in favor of alternative hypothesis that the difference in average covid deaths of people with and without underlying condition is not due to chance "
   ]
  },
  {
   "cell_type": "code",
   "execution_count": 196,
   "id": "e5265aab",
   "metadata": {},
   "outputs": [
    {
     "data": {
      "text/html": [
       "<div>\n",
       "<style scoped>\n",
       "    .dataframe tbody tr th:only-of-type {\n",
       "        vertical-align: middle;\n",
       "    }\n",
       "\n",
       "    .dataframe tbody tr th {\n",
       "        vertical-align: top;\n",
       "    }\n",
       "\n",
       "    .dataframe thead th {\n",
       "        text-align: right;\n",
       "    }\n",
       "</style>\n",
       "<table border=\"1\" class=\"dataframe\">\n",
       "  <thead>\n",
       "    <tr style=\"text-align: right;\">\n",
       "      <th></th>\n",
       "      <th>state</th>\n",
       "      <th>mmwr_week</th>\n",
       "      <th>end_week</th>\n",
       "      <th>sex</th>\n",
       "      <th>age_group</th>\n",
       "      <th>total_deaths</th>\n",
       "      <th>covid_deaths</th>\n",
       "      <th>year</th>\n",
       "      <th>month</th>\n",
       "      <th>age_split</th>\n",
       "    </tr>\n",
       "  </thead>\n",
       "  <tbody>\n",
       "    <tr>\n",
       "      <th>0</th>\n",
       "      <td>United States</td>\n",
       "      <td>14</td>\n",
       "      <td>2020-04-04</td>\n",
       "      <td>All Sex</td>\n",
       "      <td>Under 1 year</td>\n",
       "      <td>343.0</td>\n",
       "      <td>1.0</td>\n",
       "      <td>2020</td>\n",
       "      <td>4</td>\n",
       "      <td>Young</td>\n",
       "    </tr>\n",
       "    <tr>\n",
       "      <th>1</th>\n",
       "      <td>United States</td>\n",
       "      <td>14</td>\n",
       "      <td>2020-04-04</td>\n",
       "      <td>All Sex</td>\n",
       "      <td>1-4</td>\n",
       "      <td>58.0</td>\n",
       "      <td>0.0</td>\n",
       "      <td>2020</td>\n",
       "      <td>4</td>\n",
       "      <td>Young</td>\n",
       "    </tr>\n",
       "    <tr>\n",
       "      <th>2</th>\n",
       "      <td>United States</td>\n",
       "      <td>14</td>\n",
       "      <td>2020-04-04</td>\n",
       "      <td>All Sex</td>\n",
       "      <td>5-14</td>\n",
       "      <td>98.0</td>\n",
       "      <td>0.0</td>\n",
       "      <td>2020</td>\n",
       "      <td>4</td>\n",
       "      <td>Young</td>\n",
       "    </tr>\n",
       "    <tr>\n",
       "      <th>3</th>\n",
       "      <td>United States</td>\n",
       "      <td>14</td>\n",
       "      <td>2020-04-04</td>\n",
       "      <td>All Sex</td>\n",
       "      <td>15-24</td>\n",
       "      <td>619.0</td>\n",
       "      <td>14.0</td>\n",
       "      <td>2020</td>\n",
       "      <td>4</td>\n",
       "      <td>Young</td>\n",
       "    </tr>\n",
       "  </tbody>\n",
       "</table>\n",
       "</div>"
      ],
      "text/plain": [
       "           state  mmwr_week   end_week      sex     age_group  total_deaths  \\\n",
       "0  United States         14 2020-04-04  All Sex  Under 1 year         343.0   \n",
       "1  United States         14 2020-04-04  All Sex          1-4           58.0   \n",
       "2  United States         14 2020-04-04  All Sex         5-14           98.0   \n",
       "3  United States         14 2020-04-04  All Sex        15-24          619.0   \n",
       "\n",
       "   covid_deaths  year  month age_split  \n",
       "0           1.0  2020      4     Young  \n",
       "1           0.0  2020      4     Young  \n",
       "2           0.0  2020      4     Young  \n",
       "3          14.0  2020      4     Young  "
      ]
     },
     "execution_count": 196,
     "metadata": {},
     "output_type": "execute_result"
    }
   ],
   "source": [
    "cdeath_agesex_week_df.head(4)"
   ]
  },
  {
   "cell_type": "markdown",
   "id": "964c9ffa",
   "metadata": {},
   "source": [
    "#### Regression Analysis"
   ]
  },
  {
   "cell_type": "code",
   "execution_count": 187,
   "id": "8b29faec",
   "metadata": {},
   "outputs": [],
   "source": [
    "import statsmodels.formula.api as smf"
   ]
  },
  {
   "cell_type": "code",
   "execution_count": 198,
   "id": "96ed977d",
   "metadata": {},
   "outputs": [
    {
     "data": {
      "text/html": [
       "<table class=\"simpletable\">\n",
       "<caption>OLS Regression Results</caption>\n",
       "<tr>\n",
       "  <th>Dep. Variable:</th>      <td>covid_deaths</td>   <th>  R-squared:         </th> <td>   0.439</td> \n",
       "</tr>\n",
       "<tr>\n",
       "  <th>Model:</th>                   <td>OLS</td>       <th>  Adj. R-squared:    </th> <td>   0.439</td> \n",
       "</tr>\n",
       "<tr>\n",
       "  <th>Method:</th>             <td>Least Squares</td>  <th>  F-statistic:       </th> <td>   559.0</td> \n",
       "</tr>\n",
       "<tr>\n",
       "  <th>Date:</th>             <td>Thu, 18 Nov 2021</td> <th>  Prob (F-statistic):</th> <td>1.08e-91</td> \n",
       "</tr>\n",
       "<tr>\n",
       "  <th>Time:</th>                 <td>00:52:44</td>     <th>  Log-Likelihood:    </th> <td> -6018.3</td> \n",
       "</tr>\n",
       "<tr>\n",
       "  <th>No. Observations:</th>      <td>   715</td>      <th>  AIC:               </th> <td>1.204e+04</td>\n",
       "</tr>\n",
       "<tr>\n",
       "  <th>Df Residuals:</th>          <td>   713</td>      <th>  BIC:               </th> <td>1.205e+04</td>\n",
       "</tr>\n",
       "<tr>\n",
       "  <th>Df Model:</th>              <td>     1</td>      <th>                     </th>     <td> </td>    \n",
       "</tr>\n",
       "<tr>\n",
       "  <th>Covariance Type:</th>      <td>nonrobust</td>    <th>                     </th>     <td> </td>    \n",
       "</tr>\n",
       "</table>\n",
       "<table class=\"simpletable\">\n",
       "<tr>\n",
       "           <td></td>             <th>coef</th>     <th>std err</th>      <th>t</th>      <th>P>|t|</th>  <th>[0.025</th>    <th>0.975]</th>  \n",
       "</tr>\n",
       "<tr>\n",
       "  <th>Intercept</th>          <td> 2118.8846</td> <td>   67.989</td> <td>   31.165</td> <td> 0.000</td> <td> 1985.401</td> <td> 2252.368</td>\n",
       "</tr>\n",
       "<tr>\n",
       "  <th>age_split[T.Young]</th> <td>-2015.0341</td> <td>   85.229</td> <td>  -23.643</td> <td> 0.000</td> <td>-2182.364</td> <td>-1847.704</td>\n",
       "</tr>\n",
       "</table>\n",
       "<table class=\"simpletable\">\n",
       "<tr>\n",
       "  <th>Omnibus:</th>       <td>409.606</td> <th>  Durbin-Watson:     </th> <td>   0.733</td>\n",
       "</tr>\n",
       "<tr>\n",
       "  <th>Prob(Omnibus):</th> <td> 0.000</td>  <th>  Jarque-Bera (JB):  </th> <td>3299.058</td>\n",
       "</tr>\n",
       "<tr>\n",
       "  <th>Skew:</th>          <td> 2.507</td>  <th>  Prob(JB):          </th> <td>    0.00</td>\n",
       "</tr>\n",
       "<tr>\n",
       "  <th>Kurtosis:</th>      <td>12.252</td>  <th>  Cond. No.          </th> <td>    3.08</td>\n",
       "</tr>\n",
       "</table><br/><br/>Notes:<br/>[1] Standard Errors assume that the covariance matrix of the errors is correctly specified."
      ],
      "text/plain": [
       "<class 'statsmodels.iolib.summary.Summary'>\n",
       "\"\"\"\n",
       "                            OLS Regression Results                            \n",
       "==============================================================================\n",
       "Dep. Variable:           covid_deaths   R-squared:                       0.439\n",
       "Model:                            OLS   Adj. R-squared:                  0.439\n",
       "Method:                 Least Squares   F-statistic:                     559.0\n",
       "Date:                Thu, 18 Nov 2021   Prob (F-statistic):           1.08e-91\n",
       "Time:                        00:52:44   Log-Likelihood:                -6018.3\n",
       "No. Observations:                 715   AIC:                         1.204e+04\n",
       "Df Residuals:                     713   BIC:                         1.205e+04\n",
       "Df Model:                           1                                         \n",
       "Covariance Type:            nonrobust                                         \n",
       "======================================================================================\n",
       "                         coef    std err          t      P>|t|      [0.025      0.975]\n",
       "--------------------------------------------------------------------------------------\n",
       "Intercept           2118.8846     67.989     31.165      0.000    1985.401    2252.368\n",
       "age_split[T.Young] -2015.0341     85.229    -23.643      0.000   -2182.364   -1847.704\n",
       "==============================================================================\n",
       "Omnibus:                      409.606   Durbin-Watson:                   0.733\n",
       "Prob(Omnibus):                  0.000   Jarque-Bera (JB):             3299.058\n",
       "Skew:                           2.507   Prob(JB):                         0.00\n",
       "Kurtosis:                      12.252   Cond. No.                         3.08\n",
       "==============================================================================\n",
       "\n",
       "Notes:\n",
       "[1] Standard Errors assume that the covariance matrix of the errors is correctly specified.\n",
       "\"\"\""
      ]
     },
     "execution_count": 198,
     "metadata": {},
     "output_type": "execute_result"
    }
   ],
   "source": [
    "#Regression Analysis\n",
    "formula = 'covid_deaths ~ age_split'\n",
    "model = smf.ols(formula, data=cdeath_agesex_week_df)\n",
    "results = model.fit()\n",
    "results.summary()"
   ]
  },
  {
   "cell_type": "code",
   "execution_count": 190,
   "id": "966a9784",
   "metadata": {},
   "outputs": [
    {
     "data": {
      "text/html": [
       "<table class=\"simpletable\">\n",
       "<caption>OLS Regression Results</caption>\n",
       "<tr>\n",
       "  <th>Dep. Variable:</th>      <td>covid_deaths</td>   <th>  R-squared:         </th> <td>   0.508</td> \n",
       "</tr>\n",
       "<tr>\n",
       "  <th>Model:</th>                   <td>OLS</td>       <th>  Adj. R-squared:    </th> <td>   0.501</td> \n",
       "</tr>\n",
       "<tr>\n",
       "  <th>Method:</th>             <td>Least Squares</td>  <th>  F-statistic:       </th> <td>   72.68</td> \n",
       "</tr>\n",
       "<tr>\n",
       "  <th>Date:</th>             <td>Thu, 18 Nov 2021</td> <th>  Prob (F-statistic):</th> <td>1.69e-101</td>\n",
       "</tr>\n",
       "<tr>\n",
       "  <th>Time:</th>                 <td>00:46:25</td>     <th>  Log-Likelihood:    </th> <td> -5971.7</td> \n",
       "</tr>\n",
       "<tr>\n",
       "  <th>No. Observations:</th>      <td>   715</td>      <th>  AIC:               </th> <td>1.197e+04</td>\n",
       "</tr>\n",
       "<tr>\n",
       "  <th>Df Residuals:</th>          <td>   704</td>      <th>  BIC:               </th> <td>1.202e+04</td>\n",
       "</tr>\n",
       "<tr>\n",
       "  <th>Df Model:</th>              <td>    10</td>      <th>                     </th>     <td> </td>    \n",
       "</tr>\n",
       "<tr>\n",
       "  <th>Covariance Type:</th>      <td>nonrobust</td>    <th>                     </th>     <td> </td>    \n",
       "</tr>\n",
       "</table>\n",
       "<table class=\"simpletable\">\n",
       "<tr>\n",
       "              <td></td>                 <th>coef</th>     <th>std err</th>      <th>t</th>      <th>P>|t|</th>  <th>[0.025</th>    <th>0.975]</th>  \n",
       "</tr>\n",
       "<tr>\n",
       "  <th>Intercept</th>                 <td>    0.6615</td> <td>  128.209</td> <td>    0.005</td> <td> 0.996</td> <td> -251.056</td> <td>  252.379</td>\n",
       "</tr>\n",
       "<tr>\n",
       "  <th>age_group[T.15-24 ]</th>       <td>   14.8462</td> <td>  181.315</td> <td>    0.082</td> <td> 0.935</td> <td> -341.137</td> <td>  370.829</td>\n",
       "</tr>\n",
       "<tr>\n",
       "  <th>age_group[T.25-34 ]</th>       <td>   66.7385</td> <td>  181.315</td> <td>    0.368</td> <td> 0.713</td> <td> -289.244</td> <td>  422.721</td>\n",
       "</tr>\n",
       "<tr>\n",
       "  <th>age_group[T.35-44 ]</th>       <td>  169.7231</td> <td>  181.315</td> <td>    0.936</td> <td> 0.350</td> <td> -186.260</td> <td>  525.706</td>\n",
       "</tr>\n",
       "<tr>\n",
       "  <th>age_group[T.45-54 ]</th>       <td>  469.1846</td> <td>  181.315</td> <td>    2.588</td> <td> 0.010</td> <td>  113.202</td> <td>  825.167</td>\n",
       "</tr>\n",
       "<tr>\n",
       "  <th>age_group[T.5-14 ]</th>        <td>    1.1231</td> <td>  181.315</td> <td>    0.006</td> <td> 0.995</td> <td> -354.860</td> <td>  357.106</td>\n",
       "</tr>\n",
       "<tr>\n",
       "  <th>age_group[T.55-64 ]</th>       <td> 1172.5846</td> <td>  181.315</td> <td>    6.467</td> <td> 0.000</td> <td>  816.602</td> <td> 1528.567</td>\n",
       "</tr>\n",
       "<tr>\n",
       "  <th>age_group[T.65-74 ]</th>       <td> 2052.1385</td> <td>  181.315</td> <td>   11.318</td> <td> 0.000</td> <td> 1696.156</td> <td> 2408.121</td>\n",
       "</tr>\n",
       "<tr>\n",
       "  <th>age_group[T.75-84 ]</th>       <td> 2519.2000</td> <td>  181.315</td> <td>   13.894</td> <td> 0.000</td> <td> 2163.217</td> <td> 2875.183</td>\n",
       "</tr>\n",
       "<tr>\n",
       "  <th>age_group[T.85  and Over]</th> <td> 2728.9692</td> <td>  181.315</td> <td>   15.051</td> <td> 0.000</td> <td> 2372.987</td> <td> 3084.952</td>\n",
       "</tr>\n",
       "<tr>\n",
       "  <th>age_group[T.Under 1 year]</th> <td>    0.7077</td> <td>  181.315</td> <td>    0.004</td> <td> 0.997</td> <td> -355.275</td> <td>  356.690</td>\n",
       "</tr>\n",
       "</table>\n",
       "<table class=\"simpletable\">\n",
       "<tr>\n",
       "  <th>Omnibus:</th>       <td>348.049</td> <th>  Durbin-Watson:     </th> <td>   0.540</td>\n",
       "</tr>\n",
       "<tr>\n",
       "  <th>Prob(Omnibus):</th> <td> 0.000</td>  <th>  Jarque-Bera (JB):  </th> <td>2440.028</td>\n",
       "</tr>\n",
       "<tr>\n",
       "  <th>Skew:</th>          <td> 2.081</td>  <th>  Prob(JB):          </th> <td>    0.00</td>\n",
       "</tr>\n",
       "<tr>\n",
       "  <th>Kurtosis:</th>      <td>11.036</td>  <th>  Cond. No.          </th> <td>    11.9</td>\n",
       "</tr>\n",
       "</table><br/><br/>Notes:<br/>[1] Standard Errors assume that the covariance matrix of the errors is correctly specified."
      ],
      "text/plain": [
       "<class 'statsmodels.iolib.summary.Summary'>\n",
       "\"\"\"\n",
       "                            OLS Regression Results                            \n",
       "==============================================================================\n",
       "Dep. Variable:           covid_deaths   R-squared:                       0.508\n",
       "Model:                            OLS   Adj. R-squared:                  0.501\n",
       "Method:                 Least Squares   F-statistic:                     72.68\n",
       "Date:                Thu, 18 Nov 2021   Prob (F-statistic):          1.69e-101\n",
       "Time:                        00:46:25   Log-Likelihood:                -5971.7\n",
       "No. Observations:                 715   AIC:                         1.197e+04\n",
       "Df Residuals:                     704   BIC:                         1.202e+04\n",
       "Df Model:                          10                                         \n",
       "Covariance Type:            nonrobust                                         \n",
       "=============================================================================================\n",
       "                                coef    std err          t      P>|t|      [0.025      0.975]\n",
       "---------------------------------------------------------------------------------------------\n",
       "Intercept                     0.6615    128.209      0.005      0.996    -251.056     252.379\n",
       "age_group[T.15-24 ]          14.8462    181.315      0.082      0.935    -341.137     370.829\n",
       "age_group[T.25-34 ]          66.7385    181.315      0.368      0.713    -289.244     422.721\n",
       "age_group[T.35-44 ]         169.7231    181.315      0.936      0.350    -186.260     525.706\n",
       "age_group[T.45-54 ]         469.1846    181.315      2.588      0.010     113.202     825.167\n",
       "age_group[T.5-14 ]            1.1231    181.315      0.006      0.995    -354.860     357.106\n",
       "age_group[T.55-64 ]        1172.5846    181.315      6.467      0.000     816.602    1528.567\n",
       "age_group[T.65-74 ]        2052.1385    181.315     11.318      0.000    1696.156    2408.121\n",
       "age_group[T.75-84 ]        2519.2000    181.315     13.894      0.000    2163.217    2875.183\n",
       "age_group[T.85  and Over]  2728.9692    181.315     15.051      0.000    2372.987    3084.952\n",
       "age_group[T.Under 1 year]     0.7077    181.315      0.004      0.997    -355.275     356.690\n",
       "==============================================================================\n",
       "Omnibus:                      348.049   Durbin-Watson:                   0.540\n",
       "Prob(Omnibus):                  0.000   Jarque-Bera (JB):             2440.028\n",
       "Skew:                           2.081   Prob(JB):                         0.00\n",
       "Kurtosis:                      11.036   Cond. No.                         11.9\n",
       "==============================================================================\n",
       "\n",
       "Notes:\n",
       "[1] Standard Errors assume that the covariance matrix of the errors is correctly specified.\n",
       "\"\"\""
      ]
     },
     "execution_count": 190,
     "metadata": {},
     "output_type": "execute_result"
    }
   ],
   "source": [
    "#Regression Analysis\n",
    "formula = 'covid_deaths ~ age_group'\n",
    "model = smf.ols(formula, data=cdeath_agesex_week_df)\n",
    "results = model.fit()\n",
    "results.summary()"
   ]
  },
  {
   "cell_type": "code",
   "execution_count": 206,
   "id": "d264859d",
   "metadata": {
    "scrolled": false
   },
   "outputs": [
    {
     "data": {
      "text/html": [
       "<table class=\"simpletable\">\n",
       "<caption>OLS Regression Results</caption>\n",
       "<tr>\n",
       "  <th>Dep. Variable:</th>      <td>covid_deaths</td>   <th>  R-squared:         </th> <td>   0.508</td> \n",
       "</tr>\n",
       "<tr>\n",
       "  <th>Model:</th>                   <td>OLS</td>       <th>  Adj. R-squared:    </th> <td>   0.501</td> \n",
       "</tr>\n",
       "<tr>\n",
       "  <th>Method:</th>             <td>Least Squares</td>  <th>  F-statistic:       </th> <td>   72.68</td> \n",
       "</tr>\n",
       "<tr>\n",
       "  <th>Date:</th>             <td>Fri, 19 Nov 2021</td> <th>  Prob (F-statistic):</th> <td>1.69e-101</td>\n",
       "</tr>\n",
       "<tr>\n",
       "  <th>Time:</th>                 <td>15:08:53</td>     <th>  Log-Likelihood:    </th> <td> -5971.7</td> \n",
       "</tr>\n",
       "<tr>\n",
       "  <th>No. Observations:</th>      <td>   715</td>      <th>  AIC:               </th> <td>1.197e+04</td>\n",
       "</tr>\n",
       "<tr>\n",
       "  <th>Df Residuals:</th>          <td>   704</td>      <th>  BIC:               </th> <td>1.202e+04</td>\n",
       "</tr>\n",
       "<tr>\n",
       "  <th>Df Model:</th>              <td>    10</td>      <th>                     </th>     <td> </td>    \n",
       "</tr>\n",
       "<tr>\n",
       "  <th>Covariance Type:</th>      <td>nonrobust</td>    <th>                     </th>     <td> </td>    \n",
       "</tr>\n",
       "</table>\n",
       "<table class=\"simpletable\">\n",
       "<tr>\n",
       "              <td></td>                 <th>coef</th>     <th>std err</th>      <th>t</th>      <th>P>|t|</th>  <th>[0.025</th>    <th>0.975]</th>  \n",
       "</tr>\n",
       "<tr>\n",
       "  <th>Intercept</th>                 <td> 1412.7000</td> <td>   47.781</td> <td>   29.566</td> <td> 0.000</td> <td> 1318.890</td> <td> 1506.510</td>\n",
       "</tr>\n",
       "<tr>\n",
       "  <th>age_split[T.Young]</th>        <td>-1412.0385</td> <td>  115.071</td> <td>  -12.271</td> <td> 0.000</td> <td>-1637.962</td> <td>-1186.115</td>\n",
       "</tr>\n",
       "<tr>\n",
       "  <th>age_group[T.15-24 ]</th>       <td>   14.8462</td> <td>  181.315</td> <td>    0.082</td> <td> 0.935</td> <td> -341.137</td> <td>  370.829</td>\n",
       "</tr>\n",
       "<tr>\n",
       "  <th>age_group[T.25-34 ]</th>       <td>   66.7385</td> <td>  181.315</td> <td>    0.368</td> <td> 0.713</td> <td> -289.244</td> <td>  422.721</td>\n",
       "</tr>\n",
       "<tr>\n",
       "  <th>age_group[T.35-44 ]</th>       <td>  169.7231</td> <td>  181.315</td> <td>    0.936</td> <td> 0.350</td> <td> -186.260</td> <td>  525.706</td>\n",
       "</tr>\n",
       "<tr>\n",
       "  <th>age_group[T.45-54 ]</th>       <td>  469.1846</td> <td>  181.315</td> <td>    2.588</td> <td> 0.010</td> <td>  113.202</td> <td>  825.167</td>\n",
       "</tr>\n",
       "<tr>\n",
       "  <th>age_group[T.5-14 ]</th>        <td>    1.1231</td> <td>  181.315</td> <td>    0.006</td> <td> 0.995</td> <td> -354.860</td> <td>  357.106</td>\n",
       "</tr>\n",
       "<tr>\n",
       "  <th>age_group[T.55-64 ]</th>       <td> -239.4538</td> <td>  115.071</td> <td>   -2.081</td> <td> 0.038</td> <td> -465.377</td> <td>  -13.530</td>\n",
       "</tr>\n",
       "<tr>\n",
       "  <th>age_group[T.65-74 ]</th>       <td>  640.1000</td> <td>  115.071</td> <td>    5.563</td> <td> 0.000</td> <td>  414.176</td> <td>  866.024</td>\n",
       "</tr>\n",
       "<tr>\n",
       "  <th>age_group[T.75-84 ]</th>       <td> 1107.1615</td> <td>  115.071</td> <td>    9.622</td> <td> 0.000</td> <td>  881.238</td> <td> 1333.085</td>\n",
       "</tr>\n",
       "<tr>\n",
       "  <th>age_group[T.85  and Over]</th> <td> 1316.9308</td> <td>  115.071</td> <td>   11.444</td> <td> 0.000</td> <td> 1091.007</td> <td> 1542.854</td>\n",
       "</tr>\n",
       "<tr>\n",
       "  <th>age_group[T.Under 1 year]</th> <td>    0.7077</td> <td>  181.315</td> <td>    0.004</td> <td> 0.997</td> <td> -355.275</td> <td>  356.690</td>\n",
       "</tr>\n",
       "</table>\n",
       "<table class=\"simpletable\">\n",
       "<tr>\n",
       "  <th>Omnibus:</th>       <td>348.049</td> <th>  Durbin-Watson:     </th> <td>   0.540</td>\n",
       "</tr>\n",
       "<tr>\n",
       "  <th>Prob(Omnibus):</th> <td> 0.000</td>  <th>  Jarque-Bera (JB):  </th> <td>2440.028</td>\n",
       "</tr>\n",
       "<tr>\n",
       "  <th>Skew:</th>          <td> 2.081</td>  <th>  Prob(JB):          </th> <td>    0.00</td>\n",
       "</tr>\n",
       "<tr>\n",
       "  <th>Kurtosis:</th>      <td>11.036</td>  <th>  Cond. No.          </th> <td>3.39e+15</td>\n",
       "</tr>\n",
       "</table><br/><br/>Notes:<br/>[1] Standard Errors assume that the covariance matrix of the errors is correctly specified.<br/>[2] The smallest eigenvalue is 9.69e-29. This might indicate that there are<br/>strong multicollinearity problems or that the design matrix is singular."
      ],
      "text/plain": [
       "<class 'statsmodels.iolib.summary.Summary'>\n",
       "\"\"\"\n",
       "                            OLS Regression Results                            \n",
       "==============================================================================\n",
       "Dep. Variable:           covid_deaths   R-squared:                       0.508\n",
       "Model:                            OLS   Adj. R-squared:                  0.501\n",
       "Method:                 Least Squares   F-statistic:                     72.68\n",
       "Date:                Fri, 19 Nov 2021   Prob (F-statistic):          1.69e-101\n",
       "Time:                        15:08:53   Log-Likelihood:                -5971.7\n",
       "No. Observations:                 715   AIC:                         1.197e+04\n",
       "Df Residuals:                     704   BIC:                         1.202e+04\n",
       "Df Model:                          10                                         \n",
       "Covariance Type:            nonrobust                                         \n",
       "=============================================================================================\n",
       "                                coef    std err          t      P>|t|      [0.025      0.975]\n",
       "---------------------------------------------------------------------------------------------\n",
       "Intercept                  1412.7000     47.781     29.566      0.000    1318.890    1506.510\n",
       "age_split[T.Young]        -1412.0385    115.071    -12.271      0.000   -1637.962   -1186.115\n",
       "age_group[T.15-24 ]          14.8462    181.315      0.082      0.935    -341.137     370.829\n",
       "age_group[T.25-34 ]          66.7385    181.315      0.368      0.713    -289.244     422.721\n",
       "age_group[T.35-44 ]         169.7231    181.315      0.936      0.350    -186.260     525.706\n",
       "age_group[T.45-54 ]         469.1846    181.315      2.588      0.010     113.202     825.167\n",
       "age_group[T.5-14 ]            1.1231    181.315      0.006      0.995    -354.860     357.106\n",
       "age_group[T.55-64 ]        -239.4538    115.071     -2.081      0.038    -465.377     -13.530\n",
       "age_group[T.65-74 ]         640.1000    115.071      5.563      0.000     414.176     866.024\n",
       "age_group[T.75-84 ]        1107.1615    115.071      9.622      0.000     881.238    1333.085\n",
       "age_group[T.85  and Over]  1316.9308    115.071     11.444      0.000    1091.007    1542.854\n",
       "age_group[T.Under 1 year]     0.7077    181.315      0.004      0.997    -355.275     356.690\n",
       "==============================================================================\n",
       "Omnibus:                      348.049   Durbin-Watson:                   0.540\n",
       "Prob(Omnibus):                  0.000   Jarque-Bera (JB):             2440.028\n",
       "Skew:                           2.081   Prob(JB):                         0.00\n",
       "Kurtosis:                      11.036   Cond. No.                     3.39e+15\n",
       "==============================================================================\n",
       "\n",
       "Notes:\n",
       "[1] Standard Errors assume that the covariance matrix of the errors is correctly specified.\n",
       "[2] The smallest eigenvalue is 9.69e-29. This might indicate that there are\n",
       "strong multicollinearity problems or that the design matrix is singular.\n",
       "\"\"\""
      ]
     },
     "execution_count": 206,
     "metadata": {},
     "output_type": "execute_result"
    }
   ],
   "source": [
    "formula = 'covid_deaths ~ age_split+ age_group'\n",
    "model = smf.ols(formula, data=cdeath_agesex_week_df)\n",
    "results = model.fit()\n",
    "results.summary()"
   ]
  },
  {
   "cell_type": "markdown",
   "id": "b3f82bf8",
   "metadata": {},
   "source": [
    "Observation for simple regression:<br>\n",
    "Endog variable: Covid Deaths<br>\n",
    "Exog Variable: Young or old people<br>\n",
    "R-squared: 43.9%<br>\n",
    "Though p-values are significant for both young and old people, old age people (having age >= 55) is having high t value with 31.165 indicating the old age people are having correlation with Covid deaths compared to young age people (having age < 55) who t value is -23.643. These values confirm that covid death is seen high for old age people compared to young age people.\n",
    "\n",
    "Observation for muliple regression:<br>\n",
    "Dependent variable: Covid Deaths<br>\n",
    "Exog Variable: age split and age group<br>\n",
    "R-Squared: 50.8%<br>\n",
    "Observation: The p-values for young people (having age < 55) are in the range of .01 to 0.995 which implies that these age don’t have much impact on dependent variable “Covid deaths”. However, the p-values for old people are statistically significant implies major covid deaths are occurred to old age people (having age > 55)."
   ]
  },
  {
   "cell_type": "code",
   "execution_count": 193,
   "id": "d3b290e1",
   "metadata": {},
   "outputs": [
    {
     "data": {
      "text/html": [
       "<div>\n",
       "<style scoped>\n",
       "    .dataframe tbody tr th:only-of-type {\n",
       "        vertical-align: middle;\n",
       "    }\n",
       "\n",
       "    .dataframe tbody tr th {\n",
       "        vertical-align: top;\n",
       "    }\n",
       "\n",
       "    .dataframe thead th {\n",
       "        text-align: right;\n",
       "    }\n",
       "</style>\n",
       "<table border=\"1\" class=\"dataframe\">\n",
       "  <thead>\n",
       "    <tr style=\"text-align: right;\">\n",
       "      <th></th>\n",
       "      <th>start_date</th>\n",
       "      <th>end_date</th>\n",
       "      <th>group</th>\n",
       "      <th>state</th>\n",
       "      <th>condition_group</th>\n",
       "      <th>condition</th>\n",
       "      <th>age_group</th>\n",
       "      <th>covid_deaths</th>\n",
       "      <th>year</th>\n",
       "      <th>month</th>\n",
       "      <th>underlying_condition</th>\n",
       "    </tr>\n",
       "  </thead>\n",
       "  <tbody>\n",
       "    <tr>\n",
       "      <th>0</th>\n",
       "      <td>2020-04-01</td>\n",
       "      <td>2020-04-30</td>\n",
       "      <td>By Month</td>\n",
       "      <td>United States</td>\n",
       "      <td>Respiratory diseases</td>\n",
       "      <td>Influenza and pneumonia</td>\n",
       "      <td>0-24</td>\n",
       "      <td>27.0</td>\n",
       "      <td>2020</td>\n",
       "      <td>4</td>\n",
       "      <td>Yes</td>\n",
       "    </tr>\n",
       "    <tr>\n",
       "      <th>1</th>\n",
       "      <td>2020-05-01</td>\n",
       "      <td>2020-05-31</td>\n",
       "      <td>By Month</td>\n",
       "      <td>United States</td>\n",
       "      <td>Respiratory diseases</td>\n",
       "      <td>Influenza and pneumonia</td>\n",
       "      <td>0-24</td>\n",
       "      <td>19.0</td>\n",
       "      <td>2020</td>\n",
       "      <td>5</td>\n",
       "      <td>Yes</td>\n",
       "    </tr>\n",
       "    <tr>\n",
       "      <th>2</th>\n",
       "      <td>2020-06-01</td>\n",
       "      <td>2020-06-30</td>\n",
       "      <td>By Month</td>\n",
       "      <td>United States</td>\n",
       "      <td>Respiratory diseases</td>\n",
       "      <td>Influenza and pneumonia</td>\n",
       "      <td>0-24</td>\n",
       "      <td>17.0</td>\n",
       "      <td>2020</td>\n",
       "      <td>6</td>\n",
       "      <td>Yes</td>\n",
       "    </tr>\n",
       "    <tr>\n",
       "      <th>3</th>\n",
       "      <td>2020-07-01</td>\n",
       "      <td>2020-07-31</td>\n",
       "      <td>By Month</td>\n",
       "      <td>United States</td>\n",
       "      <td>Respiratory diseases</td>\n",
       "      <td>Influenza and pneumonia</td>\n",
       "      <td>0-24</td>\n",
       "      <td>38.0</td>\n",
       "      <td>2020</td>\n",
       "      <td>7</td>\n",
       "      <td>Yes</td>\n",
       "    </tr>\n",
       "  </tbody>\n",
       "</table>\n",
       "</div>"
      ],
      "text/plain": [
       "  start_date   end_date     group          state       condition_group  \\\n",
       "0 2020-04-01 2020-04-30  By Month  United States  Respiratory diseases   \n",
       "1 2020-05-01 2020-05-31  By Month  United States  Respiratory diseases   \n",
       "2 2020-06-01 2020-06-30  By Month  United States  Respiratory diseases   \n",
       "3 2020-07-01 2020-07-31  By Month  United States  Respiratory diseases   \n",
       "\n",
       "                 condition age_group  covid_deaths  year  month  \\\n",
       "0  Influenza and pneumonia      0-24          27.0  2020      4   \n",
       "1  Influenza and pneumonia      0-24          19.0  2020      5   \n",
       "2  Influenza and pneumonia      0-24          17.0  2020      6   \n",
       "3  Influenza and pneumonia      0-24          38.0  2020      7   \n",
       "\n",
       "  underlying_condition  \n",
       "0                  Yes  \n",
       "1                  Yes  \n",
       "2                  Yes  \n",
       "3                  Yes  "
      ]
     },
     "execution_count": 193,
     "metadata": {},
     "output_type": "execute_result"
    }
   ],
   "source": [
    "cdeath_agedisease_df.head(4)"
   ]
  },
  {
   "cell_type": "code",
   "execution_count": 199,
   "id": "8e7bda27",
   "metadata": {},
   "outputs": [
    {
     "data": {
      "text/html": [
       "<table class=\"simpletable\">\n",
       "<caption>OLS Regression Results</caption>\n",
       "<tr>\n",
       "  <th>Dep. Variable:</th>      <td>covid_deaths</td>   <th>  R-squared:         </th> <td>   0.149</td> \n",
       "</tr>\n",
       "<tr>\n",
       "  <th>Model:</th>                   <td>OLS</td>       <th>  Adj. R-squared:    </th> <td>   0.148</td> \n",
       "</tr>\n",
       "<tr>\n",
       "  <th>Method:</th>             <td>Least Squares</td>  <th>  F-statistic:       </th> <td>   541.7</td> \n",
       "</tr>\n",
       "<tr>\n",
       "  <th>Date:</th>             <td>Thu, 18 Nov 2021</td> <th>  Prob (F-statistic):</th> <td>1.42e-110</td>\n",
       "</tr>\n",
       "<tr>\n",
       "  <th>Time:</th>                 <td>00:53:12</td>     <th>  Log-Likelihood:    </th> <td> -27815.</td> \n",
       "</tr>\n",
       "<tr>\n",
       "  <th>No. Observations:</th>      <td>  3105</td>      <th>  AIC:               </th> <td>5.563e+04</td>\n",
       "</tr>\n",
       "<tr>\n",
       "  <th>Df Residuals:</th>          <td>  3103</td>      <th>  BIC:               </th> <td>5.565e+04</td>\n",
       "</tr>\n",
       "<tr>\n",
       "  <th>Df Model:</th>              <td>     1</td>      <th>                     </th>     <td> </td>    \n",
       "</tr>\n",
       "<tr>\n",
       "  <th>Covariance Type:</th>      <td>nonrobust</td>    <th>                     </th>     <td> </td>    \n",
       "</tr>\n",
       "</table>\n",
       "<table class=\"simpletable\">\n",
       "<tr>\n",
       "               <td></td>                  <th>coef</th>     <th>std err</th>      <th>t</th>      <th>P>|t|</th>  <th>[0.025</th>    <th>0.975]</th>  \n",
       "</tr>\n",
       "<tr>\n",
       "  <th>Intercept</th>                   <td> 4410.1778</td> <td>  161.872</td> <td>   27.245</td> <td> 0.000</td> <td> 4092.791</td> <td> 4727.565</td>\n",
       "</tr>\n",
       "<tr>\n",
       "  <th>underlying_condition[T.Yes]</th> <td>-3852.1323</td> <td>  165.510</td> <td>  -23.274</td> <td> 0.000</td> <td>-4176.653</td> <td>-3527.612</td>\n",
       "</tr>\n",
       "</table>\n",
       "<table class=\"simpletable\">\n",
       "<tr>\n",
       "  <th>Omnibus:</th>       <td>3736.226</td> <th>  Durbin-Watson:     </th>  <td>   0.436</td> \n",
       "</tr>\n",
       "<tr>\n",
       "  <th>Prob(Omnibus):</th>  <td> 0.000</td>  <th>  Jarque-Bera (JB):  </th> <td>585368.443</td>\n",
       "</tr>\n",
       "<tr>\n",
       "  <th>Skew:</th>           <td> 6.271</td>  <th>  Prob(JB):          </th>  <td>    0.00</td> \n",
       "</tr>\n",
       "<tr>\n",
       "  <th>Kurtosis:</th>       <td>69.085</td>  <th>  Cond. No.          </th>  <td>    9.49</td> \n",
       "</tr>\n",
       "</table><br/><br/>Notes:<br/>[1] Standard Errors assume that the covariance matrix of the errors is correctly specified."
      ],
      "text/plain": [
       "<class 'statsmodels.iolib.summary.Summary'>\n",
       "\"\"\"\n",
       "                            OLS Regression Results                            \n",
       "==============================================================================\n",
       "Dep. Variable:           covid_deaths   R-squared:                       0.149\n",
       "Model:                            OLS   Adj. R-squared:                  0.148\n",
       "Method:                 Least Squares   F-statistic:                     541.7\n",
       "Date:                Thu, 18 Nov 2021   Prob (F-statistic):          1.42e-110\n",
       "Time:                        00:53:12   Log-Likelihood:                -27815.\n",
       "No. Observations:                3105   AIC:                         5.563e+04\n",
       "Df Residuals:                    3103   BIC:                         5.565e+04\n",
       "Df Model:                           1                                         \n",
       "Covariance Type:            nonrobust                                         \n",
       "===============================================================================================\n",
       "                                  coef    std err          t      P>|t|      [0.025      0.975]\n",
       "-----------------------------------------------------------------------------------------------\n",
       "Intercept                    4410.1778    161.872     27.245      0.000    4092.791    4727.565\n",
       "underlying_condition[T.Yes] -3852.1323    165.510    -23.274      0.000   -4176.653   -3527.612\n",
       "==============================================================================\n",
       "Omnibus:                     3736.226   Durbin-Watson:                   0.436\n",
       "Prob(Omnibus):                  0.000   Jarque-Bera (JB):           585368.443\n",
       "Skew:                           6.271   Prob(JB):                         0.00\n",
       "Kurtosis:                      69.085   Cond. No.                         9.49\n",
       "==============================================================================\n",
       "\n",
       "Notes:\n",
       "[1] Standard Errors assume that the covariance matrix of the errors is correctly specified.\n",
       "\"\"\""
      ]
     },
     "execution_count": 199,
     "metadata": {},
     "output_type": "execute_result"
    }
   ],
   "source": [
    "#Regression Analysis\n",
    "formula = 'covid_deaths ~ underlying_condition'\n",
    "model = smf.ols(formula, data=cdeath_agedisease_df)\n",
    "results = model.fit()\n",
    "results.summary()"
   ]
  },
  {
   "cell_type": "code",
   "execution_count": 209,
   "id": "cf8dd9a9",
   "metadata": {},
   "outputs": [
    {
     "data": {
      "text/html": [
       "<table class=\"simpletable\">\n",
       "<caption>OLS Regression Results</caption>\n",
       "<tr>\n",
       "  <th>Dep. Variable:</th>      <td>covid_deaths</td>   <th>  R-squared:         </th> <td>   0.136</td> \n",
       "</tr>\n",
       "<tr>\n",
       "  <th>Model:</th>                   <td>OLS</td>       <th>  Adj. R-squared:    </th> <td>   0.134</td> \n",
       "</tr>\n",
       "<tr>\n",
       "  <th>Method:</th>             <td>Least Squares</td>  <th>  F-statistic:       </th> <td>   61.17</td> \n",
       "</tr>\n",
       "<tr>\n",
       "  <th>Date:</th>             <td>Fri, 19 Nov 2021</td> <th>  Prob (F-statistic):</th> <td>3.58e-93</td> \n",
       "</tr>\n",
       "<tr>\n",
       "  <th>Time:</th>                 <td>16:19:58</td>     <th>  Log-Likelihood:    </th> <td> -27837.</td> \n",
       "</tr>\n",
       "<tr>\n",
       "  <th>No. Observations:</th>      <td>  3105</td>      <th>  AIC:               </th> <td>5.569e+04</td>\n",
       "</tr>\n",
       "<tr>\n",
       "  <th>Df Residuals:</th>          <td>  3096</td>      <th>  BIC:               </th> <td>5.575e+04</td>\n",
       "</tr>\n",
       "<tr>\n",
       "  <th>Df Model:</th>              <td>     8</td>      <th>                     </th>     <td> </td>    \n",
       "</tr>\n",
       "<tr>\n",
       "  <th>Covariance Type:</th>      <td>nonrobust</td>    <th>                     </th>     <td> </td>    \n",
       "</tr>\n",
       "</table>\n",
       "<table class=\"simpletable\">\n",
       "<tr>\n",
       "             <td></td>                <th>coef</th>     <th>std err</th>      <th>t</th>      <th>P>|t|</th>  <th>[0.025</th>    <th>0.975]</th>  \n",
       "</tr>\n",
       "<tr>\n",
       "  <th>Intercept</th>               <td>   12.1594</td> <td>  102.093</td> <td>    0.119</td> <td> 0.905</td> <td> -188.017</td> <td>  212.336</td>\n",
       "</tr>\n",
       "<tr>\n",
       "  <th>age_group[T.25-34]</th>      <td>   32.1739</td> <td>  144.381</td> <td>    0.223</td> <td> 0.824</td> <td> -250.919</td> <td>  315.267</td>\n",
       "</tr>\n",
       "<tr>\n",
       "  <th>age_group[T.35-44]</th>      <td>  104.0406</td> <td>  144.381</td> <td>    0.721</td> <td> 0.471</td> <td> -179.052</td> <td>  387.133</td>\n",
       "</tr>\n",
       "<tr>\n",
       "  <th>age_group[T.45-54]</th>      <td>  321.2551</td> <td>  144.381</td> <td>    2.225</td> <td> 0.026</td> <td>   38.162</td> <td>  604.348</td>\n",
       "</tr>\n",
       "<tr>\n",
       "  <th>age_group[T.55-64]</th>      <td>  839.2928</td> <td>  144.381</td> <td>    5.813</td> <td> 0.000</td> <td>  556.200</td> <td> 1122.385</td>\n",
       "</tr>\n",
       "<tr>\n",
       "  <th>age_group[T.65-74]</th>      <td> 1497.8609</td> <td>  144.381</td> <td>   10.374</td> <td> 0.000</td> <td> 1214.768</td> <td> 1780.953</td>\n",
       "</tr>\n",
       "<tr>\n",
       "  <th>age_group[T.75-84]</th>      <td> 1803.1217</td> <td>  144.381</td> <td>   12.489</td> <td> 0.000</td> <td> 1520.029</td> <td> 2086.214</td>\n",
       "</tr>\n",
       "<tr>\n",
       "  <th>age_group[T.85+]</th>        <td> 1834.6087</td> <td>  144.381</td> <td>   12.707</td> <td> 0.000</td> <td> 1551.516</td> <td> 2117.701</td>\n",
       "</tr>\n",
       "<tr>\n",
       "  <th>age_group[T.Not stated]</th> <td>  -12.0232</td> <td>  144.381</td> <td>   -0.083</td> <td> 0.934</td> <td> -295.116</td> <td>  271.069</td>\n",
       "</tr>\n",
       "</table>\n",
       "<table class=\"simpletable\">\n",
       "<tr>\n",
       "  <th>Omnibus:</th>       <td>4292.692</td> <th>  Durbin-Watson:     </th>  <td>   0.424</td>  \n",
       "</tr>\n",
       "<tr>\n",
       "  <th>Prob(Omnibus):</th>  <td> 0.000</td>  <th>  Jarque-Bera (JB):  </th> <td>1139644.123</td>\n",
       "</tr>\n",
       "<tr>\n",
       "  <th>Skew:</th>           <td> 7.943</td>  <th>  Prob(JB):          </th>  <td>    0.00</td>  \n",
       "</tr>\n",
       "<tr>\n",
       "  <th>Kurtosis:</th>       <td>95.501</td>  <th>  Cond. No.          </th>  <td>    9.90</td>  \n",
       "</tr>\n",
       "</table><br/><br/>Notes:<br/>[1] Standard Errors assume that the covariance matrix of the errors is correctly specified."
      ],
      "text/plain": [
       "<class 'statsmodels.iolib.summary.Summary'>\n",
       "\"\"\"\n",
       "                            OLS Regression Results                            \n",
       "==============================================================================\n",
       "Dep. Variable:           covid_deaths   R-squared:                       0.136\n",
       "Model:                            OLS   Adj. R-squared:                  0.134\n",
       "Method:                 Least Squares   F-statistic:                     61.17\n",
       "Date:                Fri, 19 Nov 2021   Prob (F-statistic):           3.58e-93\n",
       "Time:                        16:19:58   Log-Likelihood:                -27837.\n",
       "No. Observations:                3105   AIC:                         5.569e+04\n",
       "Df Residuals:                    3096   BIC:                         5.575e+04\n",
       "Df Model:                           8                                         \n",
       "Covariance Type:            nonrobust                                         \n",
       "===========================================================================================\n",
       "                              coef    std err          t      P>|t|      [0.025      0.975]\n",
       "-------------------------------------------------------------------------------------------\n",
       "Intercept                  12.1594    102.093      0.119      0.905    -188.017     212.336\n",
       "age_group[T.25-34]         32.1739    144.381      0.223      0.824    -250.919     315.267\n",
       "age_group[T.35-44]        104.0406    144.381      0.721      0.471    -179.052     387.133\n",
       "age_group[T.45-54]        321.2551    144.381      2.225      0.026      38.162     604.348\n",
       "age_group[T.55-64]        839.2928    144.381      5.813      0.000     556.200    1122.385\n",
       "age_group[T.65-74]       1497.8609    144.381     10.374      0.000    1214.768    1780.953\n",
       "age_group[T.75-84]       1803.1217    144.381     12.489      0.000    1520.029    2086.214\n",
       "age_group[T.85+]         1834.6087    144.381     12.707      0.000    1551.516    2117.701\n",
       "age_group[T.Not stated]   -12.0232    144.381     -0.083      0.934    -295.116     271.069\n",
       "==============================================================================\n",
       "Omnibus:                     4292.692   Durbin-Watson:                   0.424\n",
       "Prob(Omnibus):                  0.000   Jarque-Bera (JB):          1139644.123\n",
       "Skew:                           7.943   Prob(JB):                         0.00\n",
       "Kurtosis:                      95.501   Cond. No.                         9.90\n",
       "==============================================================================\n",
       "\n",
       "Notes:\n",
       "[1] Standard Errors assume that the covariance matrix of the errors is correctly specified.\n",
       "\"\"\""
      ]
     },
     "execution_count": 209,
     "metadata": {},
     "output_type": "execute_result"
    }
   ],
   "source": [
    "#Regression Analysis\n",
    "formula = 'covid_deaths ~ age_group'\n",
    "model = smf.ols(formula, data=cdeath_agedisease_df)\n",
    "results = model.fit()\n",
    "results.summary()"
   ]
  },
  {
   "cell_type": "code",
   "execution_count": 207,
   "id": "786ca439",
   "metadata": {},
   "outputs": [
    {
     "data": {
      "text/html": [
       "<table class=\"simpletable\">\n",
       "<caption>OLS Regression Results</caption>\n",
       "<tr>\n",
       "  <th>Dep. Variable:</th>      <td>covid_deaths</td>   <th>  R-squared:         </th> <td>   0.285</td> \n",
       "</tr>\n",
       "<tr>\n",
       "  <th>Model:</th>                   <td>OLS</td>       <th>  Adj. R-squared:    </th> <td>   0.283</td> \n",
       "</tr>\n",
       "<tr>\n",
       "  <th>Method:</th>             <td>Least Squares</td>  <th>  F-statistic:       </th> <td>   137.1</td> \n",
       "</tr>\n",
       "<tr>\n",
       "  <th>Date:</th>             <td>Fri, 19 Nov 2021</td> <th>  Prob (F-statistic):</th> <td>4.32e-218</td>\n",
       "</tr>\n",
       "<tr>\n",
       "  <th>Time:</th>                 <td>15:32:15</td>     <th>  Log-Likelihood:    </th> <td> -27544.</td> \n",
       "</tr>\n",
       "<tr>\n",
       "  <th>No. Observations:</th>      <td>  3105</td>      <th>  AIC:               </th> <td>5.511e+04</td>\n",
       "</tr>\n",
       "<tr>\n",
       "  <th>Df Residuals:</th>          <td>  3095</td>      <th>  BIC:               </th> <td>5.517e+04</td>\n",
       "</tr>\n",
       "<tr>\n",
       "  <th>Df Model:</th>              <td>     9</td>      <th>                     </th>     <td> </td>    \n",
       "</tr>\n",
       "<tr>\n",
       "  <th>Covariance Type:</th>      <td>nonrobust</td>    <th>                     </th>     <td> </td>    \n",
       "</tr>\n",
       "</table>\n",
       "<table class=\"simpletable\">\n",
       "<tr>\n",
       "               <td></td>                  <th>coef</th>     <th>std err</th>      <th>t</th>      <th>P>|t|</th>  <th>[0.025</th>    <th>0.975]</th>  \n",
       "</tr>\n",
       "<tr>\n",
       "  <th>Intercept</th>                   <td> 3696.8077</td> <td>  172.429</td> <td>   21.440</td> <td> 0.000</td> <td> 3358.721</td> <td> 4034.895</td>\n",
       "</tr>\n",
       "<tr>\n",
       "  <th>underlying_condition[T.Yes]</th> <td>-3852.1323</td> <td>  151.861</td> <td>  -25.366</td> <td> 0.000</td> <td>-4149.891</td> <td>-3554.374</td>\n",
       "</tr>\n",
       "<tr>\n",
       "  <th>age_group[T.25-34]</th>          <td>   32.1739</td> <td>  131.391</td> <td>    0.245</td> <td> 0.807</td> <td> -225.449</td> <td>  289.796</td>\n",
       "</tr>\n",
       "<tr>\n",
       "  <th>age_group[T.35-44]</th>          <td>  104.0406</td> <td>  131.391</td> <td>    0.792</td> <td> 0.429</td> <td> -153.582</td> <td>  361.663</td>\n",
       "</tr>\n",
       "<tr>\n",
       "  <th>age_group[T.45-54]</th>          <td>  321.2551</td> <td>  131.391</td> <td>    2.445</td> <td> 0.015</td> <td>   63.633</td> <td>  578.877</td>\n",
       "</tr>\n",
       "<tr>\n",
       "  <th>age_group[T.55-64]</th>          <td>  839.2928</td> <td>  131.391</td> <td>    6.388</td> <td> 0.000</td> <td>  581.670</td> <td> 1096.915</td>\n",
       "</tr>\n",
       "<tr>\n",
       "  <th>age_group[T.65-74]</th>          <td> 1497.8609</td> <td>  131.391</td> <td>   11.400</td> <td> 0.000</td> <td> 1240.238</td> <td> 1755.483</td>\n",
       "</tr>\n",
       "<tr>\n",
       "  <th>age_group[T.75-84]</th>          <td> 1803.1217</td> <td>  131.391</td> <td>   13.723</td> <td> 0.000</td> <td> 1545.499</td> <td> 2060.744</td>\n",
       "</tr>\n",
       "<tr>\n",
       "  <th>age_group[T.85+]</th>            <td> 1834.6087</td> <td>  131.391</td> <td>   13.963</td> <td> 0.000</td> <td> 1576.986</td> <td> 2092.231</td>\n",
       "</tr>\n",
       "<tr>\n",
       "  <th>age_group[T.Not stated]</th>     <td>  -12.0232</td> <td>  131.391</td> <td>   -0.092</td> <td> 0.927</td> <td> -269.646</td> <td>  245.599</td>\n",
       "</tr>\n",
       "</table>\n",
       "<table class=\"simpletable\">\n",
       "<tr>\n",
       "  <th>Omnibus:</th>       <td>3889.234</td> <th>  Durbin-Watson:     </th>  <td>   0.514</td> \n",
       "</tr>\n",
       "<tr>\n",
       "  <th>Prob(Omnibus):</th>  <td> 0.000</td>  <th>  Jarque-Bera (JB):  </th> <td>773225.592</td>\n",
       "</tr>\n",
       "<tr>\n",
       "  <th>Skew:</th>           <td> 6.658</td>  <th>  Prob(JB):          </th>  <td>    0.00</td> \n",
       "</tr>\n",
       "<tr>\n",
       "  <th>Kurtosis:</th>       <td>79.153</td>  <th>  Cond. No.          </th>  <td>    13.7</td> \n",
       "</tr>\n",
       "</table><br/><br/>Notes:<br/>[1] Standard Errors assume that the covariance matrix of the errors is correctly specified."
      ],
      "text/plain": [
       "<class 'statsmodels.iolib.summary.Summary'>\n",
       "\"\"\"\n",
       "                            OLS Regression Results                            \n",
       "==============================================================================\n",
       "Dep. Variable:           covid_deaths   R-squared:                       0.285\n",
       "Model:                            OLS   Adj. R-squared:                  0.283\n",
       "Method:                 Least Squares   F-statistic:                     137.1\n",
       "Date:                Fri, 19 Nov 2021   Prob (F-statistic):          4.32e-218\n",
       "Time:                        15:32:15   Log-Likelihood:                -27544.\n",
       "No. Observations:                3105   AIC:                         5.511e+04\n",
       "Df Residuals:                    3095   BIC:                         5.517e+04\n",
       "Df Model:                           9                                         \n",
       "Covariance Type:            nonrobust                                         \n",
       "===============================================================================================\n",
       "                                  coef    std err          t      P>|t|      [0.025      0.975]\n",
       "-----------------------------------------------------------------------------------------------\n",
       "Intercept                    3696.8077    172.429     21.440      0.000    3358.721    4034.895\n",
       "underlying_condition[T.Yes] -3852.1323    151.861    -25.366      0.000   -4149.891   -3554.374\n",
       "age_group[T.25-34]             32.1739    131.391      0.245      0.807    -225.449     289.796\n",
       "age_group[T.35-44]            104.0406    131.391      0.792      0.429    -153.582     361.663\n",
       "age_group[T.45-54]            321.2551    131.391      2.445      0.015      63.633     578.877\n",
       "age_group[T.55-64]            839.2928    131.391      6.388      0.000     581.670    1096.915\n",
       "age_group[T.65-74]           1497.8609    131.391     11.400      0.000    1240.238    1755.483\n",
       "age_group[T.75-84]           1803.1217    131.391     13.723      0.000    1545.499    2060.744\n",
       "age_group[T.85+]             1834.6087    131.391     13.963      0.000    1576.986    2092.231\n",
       "age_group[T.Not stated]       -12.0232    131.391     -0.092      0.927    -269.646     245.599\n",
       "==============================================================================\n",
       "Omnibus:                     3889.234   Durbin-Watson:                   0.514\n",
       "Prob(Omnibus):                  0.000   Jarque-Bera (JB):           773225.592\n",
       "Skew:                           6.658   Prob(JB):                         0.00\n",
       "Kurtosis:                      79.153   Cond. No.                         13.7\n",
       "==============================================================================\n",
       "\n",
       "Notes:\n",
       "[1] Standard Errors assume that the covariance matrix of the errors is correctly specified.\n",
       "\"\"\""
      ]
     },
     "execution_count": 207,
     "metadata": {},
     "output_type": "execute_result"
    }
   ],
   "source": [
    "#Regression Analysis\n",
    "formula = 'covid_deaths ~ underlying_condition + age_group'\n",
    "model = smf.ols(formula, data=cdeath_agedisease_df)\n",
    "results = model.fit()\n",
    "results.summary()"
   ]
  },
  {
   "cell_type": "markdown",
   "id": "7c56544a",
   "metadata": {},
   "source": [
    "Observation:<br>\n",
    "Dependent variable: Covid Deaths <br>\n",
    "Exog Variable: underlying condition and age group <br>\n",
    "The p-values healthy and people with underlying condition are statistically significant. When we drilled down to age group, we see p-values for young people are in the range of .015 to 0.927 which implies that these age don’t have much impact on dependent variable “Covid deaths”. \n",
    "However, the p-values for old people are statistically significant implies major covid deaths are occurred to old age people (having age > 55). It makes sense as old people are more prone to get underlying condition like diabetes, heart disease and stroke compared to young people.\n"
   ]
  },
  {
   "cell_type": "code",
   "execution_count": null,
   "id": "07036fb0",
   "metadata": {},
   "outputs": [],
   "source": []
  }
 ],
 "metadata": {
  "kernelspec": {
   "display_name": "Python 3",
   "language": "python",
   "name": "python3"
  },
  "language_info": {
   "codemirror_mode": {
    "name": "ipython",
    "version": 3
   },
   "file_extension": ".py",
   "mimetype": "text/x-python",
   "name": "python",
   "nbconvert_exporter": "python",
   "pygments_lexer": "ipython3",
   "version": "3.8.8"
  }
 },
 "nbformat": 4,
 "nbformat_minor": 5
}
